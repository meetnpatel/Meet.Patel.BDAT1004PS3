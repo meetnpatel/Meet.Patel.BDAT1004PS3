{
  "nbformat": 4,
  "nbformat_minor": 0,
  "metadata": {
    "colab": {
      "name": "Problem Set 3",
      "provenance": [],
      "collapsed_sections": []
    },
    "kernelspec": {
      "name": "python3",
      "display_name": "Python 3"
    }
  },
  "cells": [
    {
      "cell_type": "markdown",
      "metadata": {
        "id": "06HXbIooUpXK"
      },
      "source": [
        "#__Problem Set 3__\n",
        "\n",
        "\n",
        "-----\n",
        "\n"
      ]
    },
    {
      "cell_type": "markdown",
      "metadata": {
        "id": "45uPLf6LnbQ8"
      },
      "source": [
        "###__Question 1__\r\n",
        "```\r\n",
        "Solution in file A1.cs in same directory\r\n",
        "```"
      ]
    },
    {
      "cell_type": "markdown",
      "metadata": {
        "id": "YEKrrv6GnVcI"
      },
      "source": [
        "###__Question 2__\r\n",
        "\r\n",
        "```\r\n",
        "Solution in file A2.cs in same directory\r\n",
        "```"
      ]
    },
    {
      "cell_type": "markdown",
      "metadata": {
        "id": "uhbcDVxZUyA3"
      },
      "source": [
        "###__Question 3__"
      ]
    },
    {
      "cell_type": "markdown",
      "metadata": {
        "id": "96FIGHoIpvn7"
      },
      "source": [
        "Step 1. Import the necessary libraries."
      ]
    },
    {
      "cell_type": "code",
      "metadata": {
        "id": "8R4PQhfQW_t2"
      },
      "source": [
        "import numpy as np\n",
        "import pandas as pd"
      ],
      "execution_count": 273,
      "outputs": []
    },
    {
      "cell_type": "markdown",
      "metadata": {
        "id": "ugnn2uoxp0oR"
      },
      "source": [
        "Step 2. Create 3 differents Series, each of length 100, as follows:\r\n",
        "* The first a random number from 1 to 4\r\n",
        "* The second a random number from 1 to 3\r\n",
        "* The third a random number from 10,000 to 30,000"
      ]
    },
    {
      "cell_type": "code",
      "metadata": {
        "id": "z53TjjdTUW3r"
      },
      "source": [
        "Series1 = pd.Series(np.random.randint(1,4,size=100))\n",
        "Series2 = pd.Series(np.random.randint(1,3,size=100))\n",
        "Series3 = pd.Series(np.random.randint(10000,30000,size=100))"
      ],
      "execution_count": 274,
      "outputs": []
    },
    {
      "cell_type": "markdown",
      "metadata": {
        "id": "uqTKmM2BqHIC"
      },
      "source": [
        "Step 3. Create a DataFrame by joinning the Series by column."
      ]
    },
    {
      "cell_type": "code",
      "metadata": {
        "id": "9okVwj4PNba1"
      },
      "source": [
        "Df3 = pd.DataFrame([Series1, Series2, Series3])\n",
        "Df3 = Df3.transpose()"
      ],
      "execution_count": 275,
      "outputs": []
    },
    {
      "cell_type": "markdown",
      "metadata": {
        "id": "wtTkQRXnqMxy"
      },
      "source": [
        "Step 4. Change the name of the columns to bedrs, bathrs, price_sqr_meter."
      ]
    },
    {
      "cell_type": "code",
      "metadata": {
        "id": "EbQucLCoNbUT"
      },
      "source": [
        "Df3.rename(columns = {0:\"bedrs\", 1:\"bathrs\", 2:\"price_sqr_meter\"}, inplace = True)"
      ],
      "execution_count": 276,
      "outputs": []
    },
    {
      "cell_type": "markdown",
      "metadata": {
        "id": "aVfQ0n0TqNJ4"
      },
      "source": [
        "Step 5. Create a one column DataFrame with the values of the 3 Series and assign it to 'bigcolumn'."
      ]
    },
    {
      "cell_type": "code",
      "metadata": {
        "id": "WfXoRLmoNaz0",
        "colab": {
          "base_uri": "https://localhost:8080/",
          "height": 419
        },
        "outputId": "18d7f7e0-e20b-411f-f406-c698a4528601"
      },
      "source": [
        "Df3_1 = pd.DataFrame()\n",
        "Df3_1 = pd.concat([Df3['bedrs'], Df3['bathrs'], Df3['price_sqr_meter']], ignore_index=True, axis=0)\n",
        "Df3['bigcolumn'] = pd.Series(Df3_1, index=Df3.index)\n",
        "Df3"
      ],
      "execution_count": 277,
      "outputs": [
        {
          "output_type": "execute_result",
          "data": {
            "text/html": [
              "<div>\n",
              "<style scoped>\n",
              "    .dataframe tbody tr th:only-of-type {\n",
              "        vertical-align: middle;\n",
              "    }\n",
              "\n",
              "    .dataframe tbody tr th {\n",
              "        vertical-align: top;\n",
              "    }\n",
              "\n",
              "    .dataframe thead th {\n",
              "        text-align: right;\n",
              "    }\n",
              "</style>\n",
              "<table border=\"1\" class=\"dataframe\">\n",
              "  <thead>\n",
              "    <tr style=\"text-align: right;\">\n",
              "      <th></th>\n",
              "      <th>bedrs</th>\n",
              "      <th>bathrs</th>\n",
              "      <th>price_sqr_meter</th>\n",
              "      <th>bigcolumn</th>\n",
              "    </tr>\n",
              "  </thead>\n",
              "  <tbody>\n",
              "    <tr>\n",
              "      <th>0</th>\n",
              "      <td>2</td>\n",
              "      <td>2</td>\n",
              "      <td>21817</td>\n",
              "      <td>2</td>\n",
              "    </tr>\n",
              "    <tr>\n",
              "      <th>1</th>\n",
              "      <td>2</td>\n",
              "      <td>2</td>\n",
              "      <td>28035</td>\n",
              "      <td>2</td>\n",
              "    </tr>\n",
              "    <tr>\n",
              "      <th>2</th>\n",
              "      <td>3</td>\n",
              "      <td>2</td>\n",
              "      <td>17268</td>\n",
              "      <td>3</td>\n",
              "    </tr>\n",
              "    <tr>\n",
              "      <th>3</th>\n",
              "      <td>3</td>\n",
              "      <td>2</td>\n",
              "      <td>16554</td>\n",
              "      <td>3</td>\n",
              "    </tr>\n",
              "    <tr>\n",
              "      <th>4</th>\n",
              "      <td>3</td>\n",
              "      <td>2</td>\n",
              "      <td>26103</td>\n",
              "      <td>3</td>\n",
              "    </tr>\n",
              "    <tr>\n",
              "      <th>...</th>\n",
              "      <td>...</td>\n",
              "      <td>...</td>\n",
              "      <td>...</td>\n",
              "      <td>...</td>\n",
              "    </tr>\n",
              "    <tr>\n",
              "      <th>95</th>\n",
              "      <td>3</td>\n",
              "      <td>1</td>\n",
              "      <td>11212</td>\n",
              "      <td>3</td>\n",
              "    </tr>\n",
              "    <tr>\n",
              "      <th>96</th>\n",
              "      <td>3</td>\n",
              "      <td>2</td>\n",
              "      <td>14553</td>\n",
              "      <td>3</td>\n",
              "    </tr>\n",
              "    <tr>\n",
              "      <th>97</th>\n",
              "      <td>2</td>\n",
              "      <td>2</td>\n",
              "      <td>14552</td>\n",
              "      <td>2</td>\n",
              "    </tr>\n",
              "    <tr>\n",
              "      <th>98</th>\n",
              "      <td>2</td>\n",
              "      <td>1</td>\n",
              "      <td>22264</td>\n",
              "      <td>2</td>\n",
              "    </tr>\n",
              "    <tr>\n",
              "      <th>99</th>\n",
              "      <td>3</td>\n",
              "      <td>1</td>\n",
              "      <td>24091</td>\n",
              "      <td>3</td>\n",
              "    </tr>\n",
              "  </tbody>\n",
              "</table>\n",
              "<p>100 rows × 4 columns</p>\n",
              "</div>"
            ],
            "text/plain": [
              "    bedrs  bathrs  price_sqr_meter  bigcolumn\n",
              "0       2       2            21817          2\n",
              "1       2       2            28035          2\n",
              "2       3       2            17268          3\n",
              "3       3       2            16554          3\n",
              "4       3       2            26103          3\n",
              "..    ...     ...              ...        ...\n",
              "95      3       1            11212          3\n",
              "96      3       2            14553          3\n",
              "97      2       2            14552          2\n",
              "98      2       1            22264          2\n",
              "99      3       1            24091          3\n",
              "\n",
              "[100 rows x 4 columns]"
            ]
          },
          "metadata": {
            "tags": []
          },
          "execution_count": 277
        }
      ]
    },
    {
      "cell_type": "markdown",
      "metadata": {
        "id": "_ieFhI1HqgtF"
      },
      "source": [
        "Step 6. Ops it seems it is going only until index 99. Is it true?\r\n",
        "\r\n",
        "```\r\n",
        "Yes\r\n",
        "```\r\n",
        "\r\n",
        "Step 7. Reindex the DataFrame so it goes from 0 to 299"
      ]
    },
    {
      "cell_type": "code",
      "metadata": {
        "id": "6FOXPvYdPOx3",
        "colab": {
          "base_uri": "https://localhost:8080/",
          "height": 419
        },
        "outputId": "2e141c76-a049-42de-fcc2-d7fe301cd1b5"
      },
      "source": [
        "Df3 = Df3.reindex(index=range(0,300))\r\n",
        "Df3"
      ],
      "execution_count": 283,
      "outputs": [
        {
          "output_type": "execute_result",
          "data": {
            "text/html": [
              "<div>\n",
              "<style scoped>\n",
              "    .dataframe tbody tr th:only-of-type {\n",
              "        vertical-align: middle;\n",
              "    }\n",
              "\n",
              "    .dataframe tbody tr th {\n",
              "        vertical-align: top;\n",
              "    }\n",
              "\n",
              "    .dataframe thead th {\n",
              "        text-align: right;\n",
              "    }\n",
              "</style>\n",
              "<table border=\"1\" class=\"dataframe\">\n",
              "  <thead>\n",
              "    <tr style=\"text-align: right;\">\n",
              "      <th></th>\n",
              "      <th>bedrs</th>\n",
              "      <th>bathrs</th>\n",
              "      <th>price_sqr_meter</th>\n",
              "      <th>bigcolumn</th>\n",
              "    </tr>\n",
              "  </thead>\n",
              "  <tbody>\n",
              "    <tr>\n",
              "      <th>0</th>\n",
              "      <td>2.0</td>\n",
              "      <td>2.0</td>\n",
              "      <td>21817.0</td>\n",
              "      <td>2.0</td>\n",
              "    </tr>\n",
              "    <tr>\n",
              "      <th>1</th>\n",
              "      <td>2.0</td>\n",
              "      <td>2.0</td>\n",
              "      <td>28035.0</td>\n",
              "      <td>2.0</td>\n",
              "    </tr>\n",
              "    <tr>\n",
              "      <th>2</th>\n",
              "      <td>3.0</td>\n",
              "      <td>2.0</td>\n",
              "      <td>17268.0</td>\n",
              "      <td>3.0</td>\n",
              "    </tr>\n",
              "    <tr>\n",
              "      <th>3</th>\n",
              "      <td>3.0</td>\n",
              "      <td>2.0</td>\n",
              "      <td>16554.0</td>\n",
              "      <td>3.0</td>\n",
              "    </tr>\n",
              "    <tr>\n",
              "      <th>4</th>\n",
              "      <td>3.0</td>\n",
              "      <td>2.0</td>\n",
              "      <td>26103.0</td>\n",
              "      <td>3.0</td>\n",
              "    </tr>\n",
              "    <tr>\n",
              "      <th>...</th>\n",
              "      <td>...</td>\n",
              "      <td>...</td>\n",
              "      <td>...</td>\n",
              "      <td>...</td>\n",
              "    </tr>\n",
              "    <tr>\n",
              "      <th>295</th>\n",
              "      <td>NaN</td>\n",
              "      <td>NaN</td>\n",
              "      <td>NaN</td>\n",
              "      <td>NaN</td>\n",
              "    </tr>\n",
              "    <tr>\n",
              "      <th>296</th>\n",
              "      <td>NaN</td>\n",
              "      <td>NaN</td>\n",
              "      <td>NaN</td>\n",
              "      <td>NaN</td>\n",
              "    </tr>\n",
              "    <tr>\n",
              "      <th>297</th>\n",
              "      <td>NaN</td>\n",
              "      <td>NaN</td>\n",
              "      <td>NaN</td>\n",
              "      <td>NaN</td>\n",
              "    </tr>\n",
              "    <tr>\n",
              "      <th>298</th>\n",
              "      <td>NaN</td>\n",
              "      <td>NaN</td>\n",
              "      <td>NaN</td>\n",
              "      <td>NaN</td>\n",
              "    </tr>\n",
              "    <tr>\n",
              "      <th>299</th>\n",
              "      <td>NaN</td>\n",
              "      <td>NaN</td>\n",
              "      <td>NaN</td>\n",
              "      <td>NaN</td>\n",
              "    </tr>\n",
              "  </tbody>\n",
              "</table>\n",
              "<p>300 rows × 4 columns</p>\n",
              "</div>"
            ],
            "text/plain": [
              "     bedrs  bathrs  price_sqr_meter  bigcolumn\n",
              "0      2.0     2.0          21817.0        2.0\n",
              "1      2.0     2.0          28035.0        2.0\n",
              "2      3.0     2.0          17268.0        3.0\n",
              "3      3.0     2.0          16554.0        3.0\n",
              "4      3.0     2.0          26103.0        3.0\n",
              "..     ...     ...              ...        ...\n",
              "295    NaN     NaN              NaN        NaN\n",
              "296    NaN     NaN              NaN        NaN\n",
              "297    NaN     NaN              NaN        NaN\n",
              "298    NaN     NaN              NaN        NaN\n",
              "299    NaN     NaN              NaN        NaN\n",
              "\n",
              "[300 rows x 4 columns]"
            ]
          },
          "metadata": {
            "tags": []
          },
          "execution_count": 283
        }
      ]
    },
    {
      "cell_type": "markdown",
      "metadata": {
        "id": "ajdOgmzNuur8"
      },
      "source": [
        "###__Question 4__"
      ]
    },
    {
      "cell_type": "markdown",
      "metadata": {
        "id": "v3fr3Y5YrFb8"
      },
      "source": [
        "Step 1. Import the necessary libraries"
      ]
    },
    {
      "cell_type": "code",
      "metadata": {
        "id": "AJpTxlXTyL0d"
      },
      "source": [
        "import pandas as pd\r\n",
        "import numpy as np\r\n",
        "from datetime import datetime\r\n",
        "import warnings\r\n",
        "warnings.filterwarnings(\"ignore\")"
      ],
      "execution_count": 284,
      "outputs": []
    },
    {
      "cell_type": "markdown",
      "metadata": {
        "id": "bFclvMsNrHw0"
      },
      "source": [
        "Step 2. Import the dataset from this [address](https://raw.githubusercontent.com/guipsamora/pandas_exercises/master/06_Stats/Wind_Stats/wind.data)."
      ]
    },
    {
      "cell_type": "code",
      "metadata": {
        "id": "2f1MlBksyZ3E"
      },
      "source": [
        "cols = ['Yr','Mo','Dy','RPT','VAL','ROS','KIL','SHA','BIR','DUB','CLA','MUL','CLO','BEL','MAL']\r\n",
        "values = [[61, 1, 1, 15.04, 14.96, 13.17, 9.29, np.NaN, 9.87, 13.67, 10.25, 10.83, 12.58, 18.50, 15.04],\r\n",
        "[61, 1, 2, 14.71, np.NaN, 10.83, 6.50, 12.62, 7.67, 11.50, 10.04, 9.79, 9.67, 17.54, 13.83],\r\n",
        "[61, 1, 3, 18.50, 16.88, 12.33, 10.13, 11.17, 6.17, 11.25, np.NaN, 8.50, 7.67, 12.75, 12.71]]"
      ],
      "execution_count": 285,
      "outputs": []
    },
    {
      "cell_type": "markdown",
      "metadata": {
        "id": "Apf8WGYnrI41"
      },
      "source": [
        "Step 3. Assign it to a variable called data and replace the first 3 columns by a proper datetime index."
      ]
    },
    {
      "cell_type": "code",
      "metadata": {
        "id": "BpiZBNoIy6d8"
      },
      "source": [
        "data = pd.DataFrame(values,columns = cols)\r\n",
        "dates = []\r\n",
        "for i in range(data.shape[0]):\r\n",
        "    temp = '20' + str(int(data.iloc[i]['Yr'])) + str(int(data.iloc[i]['Mo'])) + str(int(data.iloc[i]['Dy']))\r\n",
        "    dates.append(datetime(year=int(temp[0:4]), month=int(temp[4]), day=int(temp[5])))\r\n",
        "\r\n",
        "data['Yr'] = pd.Series(dates)\r\n",
        "data.drop(['Mo', 'Dy'], axis = 1, inplace=True)\r\n",
        "#data"
      ],
      "execution_count": 286,
      "outputs": []
    },
    {
      "cell_type": "markdown",
      "metadata": {
        "id": "2hdlyQMKrJad"
      },
      "source": [
        "Step 4. Year 2061? Do we really have data from this year? Create a function to fix it and apply it."
      ]
    },
    {
      "cell_type": "code",
      "metadata": {
        "id": "n8SJC0GJMKso",
        "colab": {
          "base_uri": "https://localhost:8080/",
          "height": 142
        },
        "outputId": "01bccc64-c28e-496c-cfeb-a46b010d7747"
      },
      "source": [
        "def sub_year(date,years):\r\n",
        "    if isinstance(date,datetime) and type(years) == int:\r\n",
        "        year,month,day = date.year , date.month , date.day \r\n",
        "        newyear = year - years\r\n",
        "        new_date_str = \"%s-%s-%s\" % (newyear,month,day)\r\n",
        "        new_date = datetime.strptime(new_date_str,\"%Y-%m-%d\")\r\n",
        "        return new_date\r\n",
        "\r\n",
        "for i in range(data.shape[0]):\r\n",
        "    data.Yr[i] = sub_year(data.iloc[i]['Yr'],100)\r\n",
        "\r\n",
        "data.columns = ['Date','RPT','VAL','ROS','KIL','SHA','BIR','DUB','CLA','MUL','CLO','BEL','MAL']\r\n",
        "data"
      ],
      "execution_count": 287,
      "outputs": [
        {
          "output_type": "execute_result",
          "data": {
            "text/html": [
              "<div>\n",
              "<style scoped>\n",
              "    .dataframe tbody tr th:only-of-type {\n",
              "        vertical-align: middle;\n",
              "    }\n",
              "\n",
              "    .dataframe tbody tr th {\n",
              "        vertical-align: top;\n",
              "    }\n",
              "\n",
              "    .dataframe thead th {\n",
              "        text-align: right;\n",
              "    }\n",
              "</style>\n",
              "<table border=\"1\" class=\"dataframe\">\n",
              "  <thead>\n",
              "    <tr style=\"text-align: right;\">\n",
              "      <th></th>\n",
              "      <th>Date</th>\n",
              "      <th>RPT</th>\n",
              "      <th>VAL</th>\n",
              "      <th>ROS</th>\n",
              "      <th>KIL</th>\n",
              "      <th>SHA</th>\n",
              "      <th>BIR</th>\n",
              "      <th>DUB</th>\n",
              "      <th>CLA</th>\n",
              "      <th>MUL</th>\n",
              "      <th>CLO</th>\n",
              "      <th>BEL</th>\n",
              "      <th>MAL</th>\n",
              "    </tr>\n",
              "  </thead>\n",
              "  <tbody>\n",
              "    <tr>\n",
              "      <th>0</th>\n",
              "      <td>1961-01-01</td>\n",
              "      <td>15.04</td>\n",
              "      <td>14.96</td>\n",
              "      <td>13.17</td>\n",
              "      <td>9.29</td>\n",
              "      <td>NaN</td>\n",
              "      <td>9.87</td>\n",
              "      <td>13.67</td>\n",
              "      <td>10.25</td>\n",
              "      <td>10.83</td>\n",
              "      <td>12.58</td>\n",
              "      <td>18.50</td>\n",
              "      <td>15.04</td>\n",
              "    </tr>\n",
              "    <tr>\n",
              "      <th>1</th>\n",
              "      <td>1961-01-02</td>\n",
              "      <td>14.71</td>\n",
              "      <td>NaN</td>\n",
              "      <td>10.83</td>\n",
              "      <td>6.50</td>\n",
              "      <td>12.62</td>\n",
              "      <td>7.67</td>\n",
              "      <td>11.50</td>\n",
              "      <td>10.04</td>\n",
              "      <td>9.79</td>\n",
              "      <td>9.67</td>\n",
              "      <td>17.54</td>\n",
              "      <td>13.83</td>\n",
              "    </tr>\n",
              "    <tr>\n",
              "      <th>2</th>\n",
              "      <td>1961-01-03</td>\n",
              "      <td>18.50</td>\n",
              "      <td>16.88</td>\n",
              "      <td>12.33</td>\n",
              "      <td>10.13</td>\n",
              "      <td>11.17</td>\n",
              "      <td>6.17</td>\n",
              "      <td>11.25</td>\n",
              "      <td>NaN</td>\n",
              "      <td>8.50</td>\n",
              "      <td>7.67</td>\n",
              "      <td>12.75</td>\n",
              "      <td>12.71</td>\n",
              "    </tr>\n",
              "  </tbody>\n",
              "</table>\n",
              "</div>"
            ],
            "text/plain": [
              "        Date    RPT    VAL    ROS    KIL  ...    CLA    MUL    CLO    BEL    MAL\n",
              "0 1961-01-01  15.04  14.96  13.17   9.29  ...  10.25  10.83  12.58  18.50  15.04\n",
              "1 1961-01-02  14.71    NaN  10.83   6.50  ...  10.04   9.79   9.67  17.54  13.83\n",
              "2 1961-01-03  18.50  16.88  12.33  10.13  ...    NaN   8.50   7.67  12.75  12.71\n",
              "\n",
              "[3 rows x 13 columns]"
            ]
          },
          "metadata": {
            "tags": []
          },
          "execution_count": 287
        }
      ]
    },
    {
      "cell_type": "markdown",
      "metadata": {
        "id": "Rp5wSfaVrdTw"
      },
      "source": [
        "Step 5. Set the right dates as the index. Pay attention at the data type, it should be datetime64[ns]."
      ]
    },
    {
      "cell_type": "code",
      "metadata": {
        "id": "M53PmraZT_jB",
        "colab": {
          "base_uri": "https://localhost:8080/",
          "height": 173
        },
        "outputId": "9f7a3d56-5f90-4e7f-d88f-63367033f722"
      },
      "source": [
        "data.set_index('Date', inplace=True)\r\n",
        "data"
      ],
      "execution_count": 288,
      "outputs": [
        {
          "output_type": "execute_result",
          "data": {
            "text/html": [
              "<div>\n",
              "<style scoped>\n",
              "    .dataframe tbody tr th:only-of-type {\n",
              "        vertical-align: middle;\n",
              "    }\n",
              "\n",
              "    .dataframe tbody tr th {\n",
              "        vertical-align: top;\n",
              "    }\n",
              "\n",
              "    .dataframe thead th {\n",
              "        text-align: right;\n",
              "    }\n",
              "</style>\n",
              "<table border=\"1\" class=\"dataframe\">\n",
              "  <thead>\n",
              "    <tr style=\"text-align: right;\">\n",
              "      <th></th>\n",
              "      <th>RPT</th>\n",
              "      <th>VAL</th>\n",
              "      <th>ROS</th>\n",
              "      <th>KIL</th>\n",
              "      <th>SHA</th>\n",
              "      <th>BIR</th>\n",
              "      <th>DUB</th>\n",
              "      <th>CLA</th>\n",
              "      <th>MUL</th>\n",
              "      <th>CLO</th>\n",
              "      <th>BEL</th>\n",
              "      <th>MAL</th>\n",
              "    </tr>\n",
              "    <tr>\n",
              "      <th>Date</th>\n",
              "      <th></th>\n",
              "      <th></th>\n",
              "      <th></th>\n",
              "      <th></th>\n",
              "      <th></th>\n",
              "      <th></th>\n",
              "      <th></th>\n",
              "      <th></th>\n",
              "      <th></th>\n",
              "      <th></th>\n",
              "      <th></th>\n",
              "      <th></th>\n",
              "    </tr>\n",
              "  </thead>\n",
              "  <tbody>\n",
              "    <tr>\n",
              "      <th>1961-01-01</th>\n",
              "      <td>15.04</td>\n",
              "      <td>14.96</td>\n",
              "      <td>13.17</td>\n",
              "      <td>9.29</td>\n",
              "      <td>NaN</td>\n",
              "      <td>9.87</td>\n",
              "      <td>13.67</td>\n",
              "      <td>10.25</td>\n",
              "      <td>10.83</td>\n",
              "      <td>12.58</td>\n",
              "      <td>18.50</td>\n",
              "      <td>15.04</td>\n",
              "    </tr>\n",
              "    <tr>\n",
              "      <th>1961-01-02</th>\n",
              "      <td>14.71</td>\n",
              "      <td>NaN</td>\n",
              "      <td>10.83</td>\n",
              "      <td>6.50</td>\n",
              "      <td>12.62</td>\n",
              "      <td>7.67</td>\n",
              "      <td>11.50</td>\n",
              "      <td>10.04</td>\n",
              "      <td>9.79</td>\n",
              "      <td>9.67</td>\n",
              "      <td>17.54</td>\n",
              "      <td>13.83</td>\n",
              "    </tr>\n",
              "    <tr>\n",
              "      <th>1961-01-03</th>\n",
              "      <td>18.50</td>\n",
              "      <td>16.88</td>\n",
              "      <td>12.33</td>\n",
              "      <td>10.13</td>\n",
              "      <td>11.17</td>\n",
              "      <td>6.17</td>\n",
              "      <td>11.25</td>\n",
              "      <td>NaN</td>\n",
              "      <td>8.50</td>\n",
              "      <td>7.67</td>\n",
              "      <td>12.75</td>\n",
              "      <td>12.71</td>\n",
              "    </tr>\n",
              "  </tbody>\n",
              "</table>\n",
              "</div>"
            ],
            "text/plain": [
              "              RPT    VAL    ROS    KIL  ...    MUL    CLO    BEL    MAL\n",
              "Date                                    ...                            \n",
              "1961-01-01  15.04  14.96  13.17   9.29  ...  10.83  12.58  18.50  15.04\n",
              "1961-01-02  14.71    NaN  10.83   6.50  ...   9.79   9.67  17.54  13.83\n",
              "1961-01-03  18.50  16.88  12.33  10.13  ...   8.50   7.67  12.75  12.71\n",
              "\n",
              "[3 rows x 12 columns]"
            ]
          },
          "metadata": {
            "tags": []
          },
          "execution_count": 288
        }
      ]
    },
    {
      "cell_type": "markdown",
      "metadata": {
        "id": "j0WPWzsprhgB"
      },
      "source": [
        "Step 6. Compute how many values are missing for each location over the entire record.They should be ignored in all calculations below."
      ]
    },
    {
      "cell_type": "code",
      "metadata": {
        "id": "bUrILsbC3-Bf",
        "colab": {
          "base_uri": "https://localhost:8080/"
        },
        "outputId": "b758aeb2-d7b8-4a2c-b55d-549979bfbf35"
      },
      "source": [
        "data.isnull().sum()"
      ],
      "execution_count": 289,
      "outputs": [
        {
          "output_type": "execute_result",
          "data": {
            "text/plain": [
              "RPT    0\n",
              "VAL    1\n",
              "ROS    0\n",
              "KIL    0\n",
              "SHA    1\n",
              "BIR    0\n",
              "DUB    0\n",
              "CLA    1\n",
              "MUL    0\n",
              "CLO    0\n",
              "BEL    0\n",
              "MAL    0\n",
              "dtype: int64"
            ]
          },
          "metadata": {
            "tags": []
          },
          "execution_count": 289
        }
      ]
    },
    {
      "cell_type": "markdown",
      "metadata": {
        "id": "6oe8gV4yrqSa"
      },
      "source": [
        "Step 7. Compute how many non-missing values there are in total."
      ]
    },
    {
      "cell_type": "code",
      "metadata": {
        "colab": {
          "base_uri": "https://localhost:8080/"
        },
        "id": "R16ZjYtL4mdV",
        "outputId": "c2157b28-f2b9-4ce4-9709-d22b5c90dcb2"
      },
      "source": [
        "data.shape[0] - data.isnull().sum()"
      ],
      "execution_count": 290,
      "outputs": [
        {
          "output_type": "execute_result",
          "data": {
            "text/plain": [
              "RPT    3\n",
              "VAL    2\n",
              "ROS    3\n",
              "KIL    3\n",
              "SHA    2\n",
              "BIR    3\n",
              "DUB    3\n",
              "CLA    2\n",
              "MUL    3\n",
              "CLO    3\n",
              "BEL    3\n",
              "MAL    3\n",
              "dtype: int64"
            ]
          },
          "metadata": {
            "tags": []
          },
          "execution_count": 290
        }
      ]
    },
    {
      "cell_type": "markdown",
      "metadata": {
        "id": "wSuft6-ArvuE"
      },
      "source": [
        "Step 8. Calculate the mean windspeeds of the windspeeds over all the locations and all the times.\r\n",
        "\r\n",
        "A single number for the entire dataset."
      ]
    },
    {
      "cell_type": "code",
      "metadata": {
        "colab": {
          "base_uri": "https://localhost:8080/"
        },
        "id": "rocvfiWe42Lq",
        "outputId": "cd980862-0062-4ac3-e13c-49f33f4fc2e4"
      },
      "source": [
        "data.sum().sum() / data.notna().sum().sum()"
      ],
      "execution_count": 291,
      "outputs": [
        {
          "output_type": "execute_result",
          "data": {
            "text/plain": [
              "11.99878787878788"
            ]
          },
          "metadata": {
            "tags": []
          },
          "execution_count": 291
        }
      ]
    },
    {
      "cell_type": "markdown",
      "metadata": {
        "id": "Tlfrs0v8rwOS"
      },
      "source": [
        "Step 9. Create a DataFrame called loc_stats and calculate the min, max and mean\r\n",
        "windspeeds and standard deviations of the windspeeds at each location over all the days.\r\n",
        "A different set of numbers for each location.\r\n"
      ]
    },
    {
      "cell_type": "code",
      "metadata": {
        "colab": {
          "base_uri": "https://localhost:8080/",
          "height": 255
        },
        "id": "Urqeldx-479r",
        "outputId": "3bb18a09-4aa7-41c9-9420-67f4585422f0"
      },
      "source": [
        "loc_stats = data.describe(percentiles=[])\r\n",
        "loc_stats"
      ],
      "execution_count": 292,
      "outputs": [
        {
          "output_type": "execute_result",
          "data": {
            "text/html": [
              "<div>\n",
              "<style scoped>\n",
              "    .dataframe tbody tr th:only-of-type {\n",
              "        vertical-align: middle;\n",
              "    }\n",
              "\n",
              "    .dataframe tbody tr th {\n",
              "        vertical-align: top;\n",
              "    }\n",
              "\n",
              "    .dataframe thead th {\n",
              "        text-align: right;\n",
              "    }\n",
              "</style>\n",
              "<table border=\"1\" class=\"dataframe\">\n",
              "  <thead>\n",
              "    <tr style=\"text-align: right;\">\n",
              "      <th></th>\n",
              "      <th>RPT</th>\n",
              "      <th>VAL</th>\n",
              "      <th>ROS</th>\n",
              "      <th>KIL</th>\n",
              "      <th>SHA</th>\n",
              "      <th>BIR</th>\n",
              "      <th>DUB</th>\n",
              "      <th>CLA</th>\n",
              "      <th>MUL</th>\n",
              "      <th>CLO</th>\n",
              "      <th>BEL</th>\n",
              "      <th>MAL</th>\n",
              "    </tr>\n",
              "  </thead>\n",
              "  <tbody>\n",
              "    <tr>\n",
              "      <th>count</th>\n",
              "      <td>3.000000</td>\n",
              "      <td>2.000000</td>\n",
              "      <td>3.000000</td>\n",
              "      <td>3.000000</td>\n",
              "      <td>2.000000</td>\n",
              "      <td>3.000000</td>\n",
              "      <td>3.000000</td>\n",
              "      <td>2.000000</td>\n",
              "      <td>3.000000</td>\n",
              "      <td>3.000000</td>\n",
              "      <td>3.000000</td>\n",
              "      <td>3.00000</td>\n",
              "    </tr>\n",
              "    <tr>\n",
              "      <th>mean</th>\n",
              "      <td>16.083333</td>\n",
              "      <td>15.920000</td>\n",
              "      <td>12.110000</td>\n",
              "      <td>8.640000</td>\n",
              "      <td>11.895000</td>\n",
              "      <td>7.903333</td>\n",
              "      <td>12.140000</td>\n",
              "      <td>10.145000</td>\n",
              "      <td>9.706667</td>\n",
              "      <td>9.973333</td>\n",
              "      <td>16.263333</td>\n",
              "      <td>13.86000</td>\n",
              "    </tr>\n",
              "    <tr>\n",
              "      <th>std</th>\n",
              "      <td>2.099389</td>\n",
              "      <td>1.357645</td>\n",
              "      <td>1.185411</td>\n",
              "      <td>1.900289</td>\n",
              "      <td>1.025305</td>\n",
              "      <td>1.861003</td>\n",
              "      <td>1.330902</td>\n",
              "      <td>0.148492</td>\n",
              "      <td>1.167233</td>\n",
              "      <td>2.469015</td>\n",
              "      <td>3.080265</td>\n",
              "      <td>1.16529</td>\n",
              "    </tr>\n",
              "    <tr>\n",
              "      <th>min</th>\n",
              "      <td>14.710000</td>\n",
              "      <td>14.960000</td>\n",
              "      <td>10.830000</td>\n",
              "      <td>6.500000</td>\n",
              "      <td>11.170000</td>\n",
              "      <td>6.170000</td>\n",
              "      <td>11.250000</td>\n",
              "      <td>10.040000</td>\n",
              "      <td>8.500000</td>\n",
              "      <td>7.670000</td>\n",
              "      <td>12.750000</td>\n",
              "      <td>12.71000</td>\n",
              "    </tr>\n",
              "    <tr>\n",
              "      <th>50%</th>\n",
              "      <td>15.040000</td>\n",
              "      <td>15.920000</td>\n",
              "      <td>12.330000</td>\n",
              "      <td>9.290000</td>\n",
              "      <td>11.895000</td>\n",
              "      <td>7.670000</td>\n",
              "      <td>11.500000</td>\n",
              "      <td>10.145000</td>\n",
              "      <td>9.790000</td>\n",
              "      <td>9.670000</td>\n",
              "      <td>17.540000</td>\n",
              "      <td>13.83000</td>\n",
              "    </tr>\n",
              "    <tr>\n",
              "      <th>max</th>\n",
              "      <td>18.500000</td>\n",
              "      <td>16.880000</td>\n",
              "      <td>13.170000</td>\n",
              "      <td>10.130000</td>\n",
              "      <td>12.620000</td>\n",
              "      <td>9.870000</td>\n",
              "      <td>13.670000</td>\n",
              "      <td>10.250000</td>\n",
              "      <td>10.830000</td>\n",
              "      <td>12.580000</td>\n",
              "      <td>18.500000</td>\n",
              "      <td>15.04000</td>\n",
              "    </tr>\n",
              "  </tbody>\n",
              "</table>\n",
              "</div>"
            ],
            "text/plain": [
              "             RPT        VAL        ROS  ...        CLO        BEL       MAL\n",
              "count   3.000000   2.000000   3.000000  ...   3.000000   3.000000   3.00000\n",
              "mean   16.083333  15.920000  12.110000  ...   9.973333  16.263333  13.86000\n",
              "std     2.099389   1.357645   1.185411  ...   2.469015   3.080265   1.16529\n",
              "min    14.710000  14.960000  10.830000  ...   7.670000  12.750000  12.71000\n",
              "50%    15.040000  15.920000  12.330000  ...   9.670000  17.540000  13.83000\n",
              "max    18.500000  16.880000  13.170000  ...  12.580000  18.500000  15.04000\n",
              "\n",
              "[6 rows x 12 columns]"
            ]
          },
          "metadata": {
            "tags": []
          },
          "execution_count": 292
        }
      ]
    },
    {
      "cell_type": "markdown",
      "metadata": {
        "id": "s2IKzwHSsBqh"
      },
      "source": [
        "Step 10. Create a DataFrame called day_stats and calculate the min, max and mean\r\n",
        "windspeed and standard deviations of the windspeeds across all the locations at each day."
      ]
    },
    {
      "cell_type": "code",
      "metadata": {
        "colab": {
          "base_uri": "https://localhost:8080/",
          "height": 173
        },
        "id": "zC-PSQlhCnw4",
        "outputId": "711eb29c-d1f3-4920-a387-16b73cb03f79"
      },
      "source": [
        "day_stats = pd.DataFrame()\r\n",
        "day_stats['min'] = data.min(axis = 1)\r\n",
        "day_stats['max'] = data.max(axis = 1)\r\n",
        "day_stats['mean'] = data.mean(axis = 1)\r\n",
        "day_stats['std'] = data.std(axis = 1)\r\n",
        "day_stats"
      ],
      "execution_count": 293,
      "outputs": [
        {
          "output_type": "execute_result",
          "data": {
            "text/html": [
              "<div>\n",
              "<style scoped>\n",
              "    .dataframe tbody tr th:only-of-type {\n",
              "        vertical-align: middle;\n",
              "    }\n",
              "\n",
              "    .dataframe tbody tr th {\n",
              "        vertical-align: top;\n",
              "    }\n",
              "\n",
              "    .dataframe thead th {\n",
              "        text-align: right;\n",
              "    }\n",
              "</style>\n",
              "<table border=\"1\" class=\"dataframe\">\n",
              "  <thead>\n",
              "    <tr style=\"text-align: right;\">\n",
              "      <th></th>\n",
              "      <th>min</th>\n",
              "      <th>max</th>\n",
              "      <th>mean</th>\n",
              "      <th>std</th>\n",
              "    </tr>\n",
              "    <tr>\n",
              "      <th>Date</th>\n",
              "      <th></th>\n",
              "      <th></th>\n",
              "      <th></th>\n",
              "      <th></th>\n",
              "    </tr>\n",
              "  </thead>\n",
              "  <tbody>\n",
              "    <tr>\n",
              "      <th>1961-01-01</th>\n",
              "      <td>9.29</td>\n",
              "      <td>18.50</td>\n",
              "      <td>13.018182</td>\n",
              "      <td>2.808875</td>\n",
              "    </tr>\n",
              "    <tr>\n",
              "      <th>1961-01-02</th>\n",
              "      <td>6.50</td>\n",
              "      <td>17.54</td>\n",
              "      <td>11.336364</td>\n",
              "      <td>3.188994</td>\n",
              "    </tr>\n",
              "    <tr>\n",
              "      <th>1961-01-03</th>\n",
              "      <td>6.17</td>\n",
              "      <td>18.50</td>\n",
              "      <td>11.641818</td>\n",
              "      <td>3.681912</td>\n",
              "    </tr>\n",
              "  </tbody>\n",
              "</table>\n",
              "</div>"
            ],
            "text/plain": [
              "             min    max       mean       std\n",
              "Date                                        \n",
              "1961-01-01  9.29  18.50  13.018182  2.808875\n",
              "1961-01-02  6.50  17.54  11.336364  3.188994\n",
              "1961-01-03  6.17  18.50  11.641818  3.681912"
            ]
          },
          "metadata": {
            "tags": []
          },
          "execution_count": 293
        }
      ]
    },
    {
      "cell_type": "markdown",
      "metadata": {
        "id": "4IRNqJMhsJRH"
      },
      "source": [
        "Step 11. Find the average windspeed in January for each location. Treat January 1961 and January 1962 both as January."
      ]
    },
    {
      "cell_type": "code",
      "metadata": {
        "colab": {
          "base_uri": "https://localhost:8080/"
        },
        "id": "eFWNK1C0DH4B",
        "outputId": "039108f3-830e-4d1f-e4f3-37c9fec3d064"
      },
      "source": [
        "data.loc[data.index.month == 1].mean()"
      ],
      "execution_count": 294,
      "outputs": [
        {
          "output_type": "execute_result",
          "data": {
            "text/plain": [
              "RPT    16.083333\n",
              "VAL    15.920000\n",
              "ROS    12.110000\n",
              "KIL     8.640000\n",
              "SHA    11.895000\n",
              "BIR     7.903333\n",
              "DUB    12.140000\n",
              "CLA    10.145000\n",
              "MUL     9.706667\n",
              "CLO     9.973333\n",
              "BEL    16.263333\n",
              "MAL    13.860000\n",
              "dtype: float64"
            ]
          },
          "metadata": {
            "tags": []
          },
          "execution_count": 294
        }
      ]
    },
    {
      "cell_type": "markdown",
      "metadata": {
        "id": "tmXswcfasMlB"
      },
      "source": [
        "Step 12. Downsample the record to a yearly frequency for each location."
      ]
    },
    {
      "cell_type": "code",
      "metadata": {
        "colab": {
          "base_uri": "https://localhost:8080/",
          "height": 111
        },
        "id": "oxD7B4IAD1D8",
        "outputId": "eb4c63ed-4997-430e-fe88-24d9ac147a31"
      },
      "source": [
        "data.groupby(data.index.to_period('Y')).mean()"
      ],
      "execution_count": 295,
      "outputs": [
        {
          "output_type": "execute_result",
          "data": {
            "text/html": [
              "<div>\n",
              "<style scoped>\n",
              "    .dataframe tbody tr th:only-of-type {\n",
              "        vertical-align: middle;\n",
              "    }\n",
              "\n",
              "    .dataframe tbody tr th {\n",
              "        vertical-align: top;\n",
              "    }\n",
              "\n",
              "    .dataframe thead th {\n",
              "        text-align: right;\n",
              "    }\n",
              "</style>\n",
              "<table border=\"1\" class=\"dataframe\">\n",
              "  <thead>\n",
              "    <tr style=\"text-align: right;\">\n",
              "      <th></th>\n",
              "      <th>RPT</th>\n",
              "      <th>VAL</th>\n",
              "      <th>ROS</th>\n",
              "      <th>KIL</th>\n",
              "      <th>SHA</th>\n",
              "      <th>BIR</th>\n",
              "      <th>DUB</th>\n",
              "      <th>CLA</th>\n",
              "      <th>MUL</th>\n",
              "      <th>CLO</th>\n",
              "      <th>BEL</th>\n",
              "      <th>MAL</th>\n",
              "    </tr>\n",
              "    <tr>\n",
              "      <th>Date</th>\n",
              "      <th></th>\n",
              "      <th></th>\n",
              "      <th></th>\n",
              "      <th></th>\n",
              "      <th></th>\n",
              "      <th></th>\n",
              "      <th></th>\n",
              "      <th></th>\n",
              "      <th></th>\n",
              "      <th></th>\n",
              "      <th></th>\n",
              "      <th></th>\n",
              "    </tr>\n",
              "  </thead>\n",
              "  <tbody>\n",
              "    <tr>\n",
              "      <th>1961</th>\n",
              "      <td>16.083333</td>\n",
              "      <td>15.92</td>\n",
              "      <td>12.11</td>\n",
              "      <td>8.64</td>\n",
              "      <td>11.895</td>\n",
              "      <td>7.903333</td>\n",
              "      <td>12.14</td>\n",
              "      <td>10.145</td>\n",
              "      <td>9.706667</td>\n",
              "      <td>9.973333</td>\n",
              "      <td>16.263333</td>\n",
              "      <td>13.86</td>\n",
              "    </tr>\n",
              "  </tbody>\n",
              "</table>\n",
              "</div>"
            ],
            "text/plain": [
              "            RPT    VAL    ROS   KIL  ...       MUL       CLO        BEL    MAL\n",
              "Date                                 ...                                      \n",
              "1961  16.083333  15.92  12.11  8.64  ...  9.706667  9.973333  16.263333  13.86\n",
              "\n",
              "[1 rows x 12 columns]"
            ]
          },
          "metadata": {
            "tags": []
          },
          "execution_count": 295
        }
      ]
    },
    {
      "cell_type": "markdown",
      "metadata": {
        "id": "CRtcAWwdsbvj"
      },
      "source": [
        "Step 13. Downsample the record to a monthly frequency for each location."
      ]
    },
    {
      "cell_type": "code",
      "metadata": {
        "colab": {
          "base_uri": "https://localhost:8080/",
          "height": 111
        },
        "id": "k-kQjd-6D4A0",
        "outputId": "bf93a83f-a58d-4dae-da93-1a4acc052fcd"
      },
      "source": [
        "data.groupby(data.index.to_period('M')).mean()"
      ],
      "execution_count": 296,
      "outputs": [
        {
          "output_type": "execute_result",
          "data": {
            "text/html": [
              "<div>\n",
              "<style scoped>\n",
              "    .dataframe tbody tr th:only-of-type {\n",
              "        vertical-align: middle;\n",
              "    }\n",
              "\n",
              "    .dataframe tbody tr th {\n",
              "        vertical-align: top;\n",
              "    }\n",
              "\n",
              "    .dataframe thead th {\n",
              "        text-align: right;\n",
              "    }\n",
              "</style>\n",
              "<table border=\"1\" class=\"dataframe\">\n",
              "  <thead>\n",
              "    <tr style=\"text-align: right;\">\n",
              "      <th></th>\n",
              "      <th>RPT</th>\n",
              "      <th>VAL</th>\n",
              "      <th>ROS</th>\n",
              "      <th>KIL</th>\n",
              "      <th>SHA</th>\n",
              "      <th>BIR</th>\n",
              "      <th>DUB</th>\n",
              "      <th>CLA</th>\n",
              "      <th>MUL</th>\n",
              "      <th>CLO</th>\n",
              "      <th>BEL</th>\n",
              "      <th>MAL</th>\n",
              "    </tr>\n",
              "    <tr>\n",
              "      <th>Date</th>\n",
              "      <th></th>\n",
              "      <th></th>\n",
              "      <th></th>\n",
              "      <th></th>\n",
              "      <th></th>\n",
              "      <th></th>\n",
              "      <th></th>\n",
              "      <th></th>\n",
              "      <th></th>\n",
              "      <th></th>\n",
              "      <th></th>\n",
              "      <th></th>\n",
              "    </tr>\n",
              "  </thead>\n",
              "  <tbody>\n",
              "    <tr>\n",
              "      <th>1961-01</th>\n",
              "      <td>16.083333</td>\n",
              "      <td>15.92</td>\n",
              "      <td>12.11</td>\n",
              "      <td>8.64</td>\n",
              "      <td>11.895</td>\n",
              "      <td>7.903333</td>\n",
              "      <td>12.14</td>\n",
              "      <td>10.145</td>\n",
              "      <td>9.706667</td>\n",
              "      <td>9.973333</td>\n",
              "      <td>16.263333</td>\n",
              "      <td>13.86</td>\n",
              "    </tr>\n",
              "  </tbody>\n",
              "</table>\n",
              "</div>"
            ],
            "text/plain": [
              "               RPT    VAL    ROS   KIL  ...       MUL       CLO        BEL    MAL\n",
              "Date                                    ...                                      \n",
              "1961-01  16.083333  15.92  12.11  8.64  ...  9.706667  9.973333  16.263333  13.86\n",
              "\n",
              "[1 rows x 12 columns]"
            ]
          },
          "metadata": {
            "tags": []
          },
          "execution_count": 296
        }
      ]
    },
    {
      "cell_type": "markdown",
      "metadata": {
        "id": "toEyiePishcJ"
      },
      "source": [
        "Step 14. Downsample the record to a weekly frequency for each location."
      ]
    },
    {
      "cell_type": "code",
      "metadata": {
        "colab": {
          "base_uri": "https://localhost:8080/",
          "height": 142
        },
        "id": "76tQZ5HDD320",
        "outputId": "a0f91d01-d36f-4dbe-b43d-b5f42d112743"
      },
      "source": [
        "data.groupby(data.index.to_period('W')).mean()"
      ],
      "execution_count": 297,
      "outputs": [
        {
          "output_type": "execute_result",
          "data": {
            "text/html": [
              "<div>\n",
              "<style scoped>\n",
              "    .dataframe tbody tr th:only-of-type {\n",
              "        vertical-align: middle;\n",
              "    }\n",
              "\n",
              "    .dataframe tbody tr th {\n",
              "        vertical-align: top;\n",
              "    }\n",
              "\n",
              "    .dataframe thead th {\n",
              "        text-align: right;\n",
              "    }\n",
              "</style>\n",
              "<table border=\"1\" class=\"dataframe\">\n",
              "  <thead>\n",
              "    <tr style=\"text-align: right;\">\n",
              "      <th></th>\n",
              "      <th>RPT</th>\n",
              "      <th>VAL</th>\n",
              "      <th>ROS</th>\n",
              "      <th>KIL</th>\n",
              "      <th>SHA</th>\n",
              "      <th>BIR</th>\n",
              "      <th>DUB</th>\n",
              "      <th>CLA</th>\n",
              "      <th>MUL</th>\n",
              "      <th>CLO</th>\n",
              "      <th>BEL</th>\n",
              "      <th>MAL</th>\n",
              "    </tr>\n",
              "    <tr>\n",
              "      <th>Date</th>\n",
              "      <th></th>\n",
              "      <th></th>\n",
              "      <th></th>\n",
              "      <th></th>\n",
              "      <th></th>\n",
              "      <th></th>\n",
              "      <th></th>\n",
              "      <th></th>\n",
              "      <th></th>\n",
              "      <th></th>\n",
              "      <th></th>\n",
              "      <th></th>\n",
              "    </tr>\n",
              "  </thead>\n",
              "  <tbody>\n",
              "    <tr>\n",
              "      <th>1960-12-26/1961-01-01</th>\n",
              "      <td>15.040</td>\n",
              "      <td>14.96</td>\n",
              "      <td>13.17</td>\n",
              "      <td>9.290</td>\n",
              "      <td>NaN</td>\n",
              "      <td>9.87</td>\n",
              "      <td>13.670</td>\n",
              "      <td>10.25</td>\n",
              "      <td>10.830</td>\n",
              "      <td>12.58</td>\n",
              "      <td>18.500</td>\n",
              "      <td>15.04</td>\n",
              "    </tr>\n",
              "    <tr>\n",
              "      <th>1961-01-02/1961-01-08</th>\n",
              "      <td>16.605</td>\n",
              "      <td>16.88</td>\n",
              "      <td>11.58</td>\n",
              "      <td>8.315</td>\n",
              "      <td>11.895</td>\n",
              "      <td>6.92</td>\n",
              "      <td>11.375</td>\n",
              "      <td>10.04</td>\n",
              "      <td>9.145</td>\n",
              "      <td>8.67</td>\n",
              "      <td>15.145</td>\n",
              "      <td>13.27</td>\n",
              "    </tr>\n",
              "  </tbody>\n",
              "</table>\n",
              "</div>"
            ],
            "text/plain": [
              "                          RPT    VAL    ROS  ...    CLO     BEL    MAL\n",
              "Date                                         ...                      \n",
              "1960-12-26/1961-01-01  15.040  14.96  13.17  ...  12.58  18.500  15.04\n",
              "1961-01-02/1961-01-08  16.605  16.88  11.58  ...   8.67  15.145  13.27\n",
              "\n",
              "[2 rows x 12 columns]"
            ]
          },
          "metadata": {
            "tags": []
          },
          "execution_count": 297
        }
      ]
    },
    {
      "cell_type": "markdown",
      "metadata": {
        "id": "lD6_9ME6s6xL"
      },
      "source": [
        "Step 15. Calculate the min, max and mean windspeeds and standard deviations of the windspeeds across all locations for each week (assume that the first week starts on January 2 1961) for the first 52 weeks.\r\n"
      ]
    },
    {
      "cell_type": "code",
      "metadata": {
        "colab": {
          "base_uri": "https://localhost:8080/",
          "height": 179
        },
        "id": "Xx8jmCf1D3ml",
        "outputId": "4addaf52-0a83-42a1-cdd4-e7ef424a8762"
      },
      "source": [
        "# 15\r\n",
        "weekly = data.resample('W').agg(['min','max','mean','std'])\r\n",
        "weekly.loc[weekly.index[1:53], \"RPT\":\"MAL\"]"
      ],
      "execution_count": 298,
      "outputs": [
        {
          "output_type": "execute_result",
          "data": {
            "text/html": [
              "<div>\n",
              "<style scoped>\n",
              "    .dataframe tbody tr th:only-of-type {\n",
              "        vertical-align: middle;\n",
              "    }\n",
              "\n",
              "    .dataframe tbody tr th {\n",
              "        vertical-align: top;\n",
              "    }\n",
              "\n",
              "    .dataframe thead tr th {\n",
              "        text-align: left;\n",
              "    }\n",
              "\n",
              "    .dataframe thead tr:last-of-type th {\n",
              "        text-align: right;\n",
              "    }\n",
              "</style>\n",
              "<table border=\"1\" class=\"dataframe\">\n",
              "  <thead>\n",
              "    <tr>\n",
              "      <th></th>\n",
              "      <th colspan=\"4\" halign=\"left\">RPT</th>\n",
              "      <th colspan=\"4\" halign=\"left\">VAL</th>\n",
              "      <th colspan=\"4\" halign=\"left\">ROS</th>\n",
              "      <th colspan=\"4\" halign=\"left\">KIL</th>\n",
              "      <th colspan=\"4\" halign=\"left\">SHA</th>\n",
              "      <th colspan=\"4\" halign=\"left\">BIR</th>\n",
              "      <th colspan=\"4\" halign=\"left\">DUB</th>\n",
              "      <th colspan=\"4\" halign=\"left\">CLA</th>\n",
              "      <th colspan=\"4\" halign=\"left\">MUL</th>\n",
              "      <th colspan=\"4\" halign=\"left\">CLO</th>\n",
              "      <th colspan=\"4\" halign=\"left\">BEL</th>\n",
              "      <th colspan=\"4\" halign=\"left\">MAL</th>\n",
              "    </tr>\n",
              "    <tr>\n",
              "      <th></th>\n",
              "      <th>min</th>\n",
              "      <th>max</th>\n",
              "      <th>mean</th>\n",
              "      <th>std</th>\n",
              "      <th>min</th>\n",
              "      <th>max</th>\n",
              "      <th>mean</th>\n",
              "      <th>std</th>\n",
              "      <th>min</th>\n",
              "      <th>max</th>\n",
              "      <th>mean</th>\n",
              "      <th>std</th>\n",
              "      <th>min</th>\n",
              "      <th>max</th>\n",
              "      <th>mean</th>\n",
              "      <th>std</th>\n",
              "      <th>min</th>\n",
              "      <th>max</th>\n",
              "      <th>mean</th>\n",
              "      <th>std</th>\n",
              "      <th>min</th>\n",
              "      <th>max</th>\n",
              "      <th>mean</th>\n",
              "      <th>std</th>\n",
              "      <th>min</th>\n",
              "      <th>max</th>\n",
              "      <th>mean</th>\n",
              "      <th>std</th>\n",
              "      <th>min</th>\n",
              "      <th>max</th>\n",
              "      <th>mean</th>\n",
              "      <th>std</th>\n",
              "      <th>min</th>\n",
              "      <th>max</th>\n",
              "      <th>mean</th>\n",
              "      <th>std</th>\n",
              "      <th>min</th>\n",
              "      <th>max</th>\n",
              "      <th>mean</th>\n",
              "      <th>std</th>\n",
              "      <th>min</th>\n",
              "      <th>max</th>\n",
              "      <th>mean</th>\n",
              "      <th>std</th>\n",
              "      <th>min</th>\n",
              "      <th>max</th>\n",
              "      <th>mean</th>\n",
              "      <th>std</th>\n",
              "    </tr>\n",
              "    <tr>\n",
              "      <th>Date</th>\n",
              "      <th></th>\n",
              "      <th></th>\n",
              "      <th></th>\n",
              "      <th></th>\n",
              "      <th></th>\n",
              "      <th></th>\n",
              "      <th></th>\n",
              "      <th></th>\n",
              "      <th></th>\n",
              "      <th></th>\n",
              "      <th></th>\n",
              "      <th></th>\n",
              "      <th></th>\n",
              "      <th></th>\n",
              "      <th></th>\n",
              "      <th></th>\n",
              "      <th></th>\n",
              "      <th></th>\n",
              "      <th></th>\n",
              "      <th></th>\n",
              "      <th></th>\n",
              "      <th></th>\n",
              "      <th></th>\n",
              "      <th></th>\n",
              "      <th></th>\n",
              "      <th></th>\n",
              "      <th></th>\n",
              "      <th></th>\n",
              "      <th></th>\n",
              "      <th></th>\n",
              "      <th></th>\n",
              "      <th></th>\n",
              "      <th></th>\n",
              "      <th></th>\n",
              "      <th></th>\n",
              "      <th></th>\n",
              "      <th></th>\n",
              "      <th></th>\n",
              "      <th></th>\n",
              "      <th></th>\n",
              "      <th></th>\n",
              "      <th></th>\n",
              "      <th></th>\n",
              "      <th></th>\n",
              "      <th></th>\n",
              "      <th></th>\n",
              "      <th></th>\n",
              "      <th></th>\n",
              "    </tr>\n",
              "  </thead>\n",
              "  <tbody>\n",
              "    <tr>\n",
              "      <th>1961-01-08</th>\n",
              "      <td>14.71</td>\n",
              "      <td>18.5</td>\n",
              "      <td>16.605</td>\n",
              "      <td>2.679935</td>\n",
              "      <td>16.88</td>\n",
              "      <td>16.88</td>\n",
              "      <td>16.88</td>\n",
              "      <td>NaN</td>\n",
              "      <td>10.83</td>\n",
              "      <td>12.33</td>\n",
              "      <td>11.58</td>\n",
              "      <td>1.06066</td>\n",
              "      <td>6.5</td>\n",
              "      <td>10.13</td>\n",
              "      <td>8.315</td>\n",
              "      <td>2.566798</td>\n",
              "      <td>11.17</td>\n",
              "      <td>12.62</td>\n",
              "      <td>11.895</td>\n",
              "      <td>1.025305</td>\n",
              "      <td>6.17</td>\n",
              "      <td>7.67</td>\n",
              "      <td>6.92</td>\n",
              "      <td>1.06066</td>\n",
              "      <td>11.25</td>\n",
              "      <td>11.5</td>\n",
              "      <td>11.375</td>\n",
              "      <td>0.176777</td>\n",
              "      <td>10.04</td>\n",
              "      <td>10.04</td>\n",
              "      <td>10.04</td>\n",
              "      <td>NaN</td>\n",
              "      <td>8.5</td>\n",
              "      <td>9.79</td>\n",
              "      <td>9.145</td>\n",
              "      <td>0.912168</td>\n",
              "      <td>7.67</td>\n",
              "      <td>9.67</td>\n",
              "      <td>8.67</td>\n",
              "      <td>1.414214</td>\n",
              "      <td>12.75</td>\n",
              "      <td>17.54</td>\n",
              "      <td>15.145</td>\n",
              "      <td>3.387041</td>\n",
              "      <td>12.71</td>\n",
              "      <td>13.83</td>\n",
              "      <td>13.27</td>\n",
              "      <td>0.79196</td>\n",
              "    </tr>\n",
              "  </tbody>\n",
              "</table>\n",
              "</div>"
            ],
            "text/plain": [
              "              RPT                          ...    MAL                       \n",
              "              min   max    mean       std  ...    min    max   mean      std\n",
              "Date                                       ...                              \n",
              "1961-01-08  14.71  18.5  16.605  2.679935  ...  12.71  13.83  13.27  0.79196\n",
              "\n",
              "[1 rows x 48 columns]"
            ]
          },
          "metadata": {
            "tags": []
          },
          "execution_count": 298
        }
      ]
    },
    {
      "cell_type": "markdown",
      "metadata": {
        "id": "hOMRf_8furLN"
      },
      "source": [
        "###__Question 5__"
      ]
    },
    {
      "cell_type": "markdown",
      "metadata": {
        "id": "kR4g0RDZtBHR"
      },
      "source": [
        "Step 1. Import the necessary libraries"
      ]
    },
    {
      "cell_type": "code",
      "metadata": {
        "id": "lZfFhJGGFlRU"
      },
      "source": [
        "import numpy as np\r\n",
        "import pandas as pd"
      ],
      "execution_count": 299,
      "outputs": []
    },
    {
      "cell_type": "markdown",
      "metadata": {
        "id": "IWl44GkItDRC"
      },
      "source": [
        "Step 2. Import the dataset from this address."
      ]
    },
    {
      "cell_type": "code",
      "metadata": {
        "id": "FvsTWGMEFmPF"
      },
      "source": [
        "address = 'https://raw.githubusercontent.com/justmarkham/DAT8/master/data/chipotle.tsv'"
      ],
      "execution_count": 300,
      "outputs": []
    },
    {
      "cell_type": "markdown",
      "metadata": {
        "id": "SGn0PgF2tIgp"
      },
      "source": [
        "Step 3. Assign it to a variable called chipo."
      ]
    },
    {
      "cell_type": "code",
      "metadata": {
        "id": "9jRE1LBvFmIR"
      },
      "source": [
        "chipo = pd.read_csv(address, sep = '\\t')"
      ],
      "execution_count": 301,
      "outputs": []
    },
    {
      "cell_type": "markdown",
      "metadata": {
        "id": "QmryQSlCtDpr"
      },
      "source": [
        "Step 4. See the first 10 entries\r\n"
      ]
    },
    {
      "cell_type": "code",
      "metadata": {
        "colab": {
          "base_uri": "https://localhost:8080/",
          "height": 359
        },
        "id": "Vke8X98fFl5E",
        "outputId": "ce899781-e669-43a2-a37e-de946f0460de"
      },
      "source": [
        "chipo.head(10)"
      ],
      "execution_count": 302,
      "outputs": [
        {
          "output_type": "execute_result",
          "data": {
            "text/html": [
              "<div>\n",
              "<style scoped>\n",
              "    .dataframe tbody tr th:only-of-type {\n",
              "        vertical-align: middle;\n",
              "    }\n",
              "\n",
              "    .dataframe tbody tr th {\n",
              "        vertical-align: top;\n",
              "    }\n",
              "\n",
              "    .dataframe thead th {\n",
              "        text-align: right;\n",
              "    }\n",
              "</style>\n",
              "<table border=\"1\" class=\"dataframe\">\n",
              "  <thead>\n",
              "    <tr style=\"text-align: right;\">\n",
              "      <th></th>\n",
              "      <th>order_id</th>\n",
              "      <th>quantity</th>\n",
              "      <th>item_name</th>\n",
              "      <th>choice_description</th>\n",
              "      <th>item_price</th>\n",
              "    </tr>\n",
              "  </thead>\n",
              "  <tbody>\n",
              "    <tr>\n",
              "      <th>0</th>\n",
              "      <td>1</td>\n",
              "      <td>1</td>\n",
              "      <td>Chips and Fresh Tomato Salsa</td>\n",
              "      <td>NaN</td>\n",
              "      <td>$2.39</td>\n",
              "    </tr>\n",
              "    <tr>\n",
              "      <th>1</th>\n",
              "      <td>1</td>\n",
              "      <td>1</td>\n",
              "      <td>Izze</td>\n",
              "      <td>[Clementine]</td>\n",
              "      <td>$3.39</td>\n",
              "    </tr>\n",
              "    <tr>\n",
              "      <th>2</th>\n",
              "      <td>1</td>\n",
              "      <td>1</td>\n",
              "      <td>Nantucket Nectar</td>\n",
              "      <td>[Apple]</td>\n",
              "      <td>$3.39</td>\n",
              "    </tr>\n",
              "    <tr>\n",
              "      <th>3</th>\n",
              "      <td>1</td>\n",
              "      <td>1</td>\n",
              "      <td>Chips and Tomatillo-Green Chili Salsa</td>\n",
              "      <td>NaN</td>\n",
              "      <td>$2.39</td>\n",
              "    </tr>\n",
              "    <tr>\n",
              "      <th>4</th>\n",
              "      <td>2</td>\n",
              "      <td>2</td>\n",
              "      <td>Chicken Bowl</td>\n",
              "      <td>[Tomatillo-Red Chili Salsa (Hot), [Black Beans...</td>\n",
              "      <td>$16.98</td>\n",
              "    </tr>\n",
              "    <tr>\n",
              "      <th>5</th>\n",
              "      <td>3</td>\n",
              "      <td>1</td>\n",
              "      <td>Chicken Bowl</td>\n",
              "      <td>[Fresh Tomato Salsa (Mild), [Rice, Cheese, Sou...</td>\n",
              "      <td>$10.98</td>\n",
              "    </tr>\n",
              "    <tr>\n",
              "      <th>6</th>\n",
              "      <td>3</td>\n",
              "      <td>1</td>\n",
              "      <td>Side of Chips</td>\n",
              "      <td>NaN</td>\n",
              "      <td>$1.69</td>\n",
              "    </tr>\n",
              "    <tr>\n",
              "      <th>7</th>\n",
              "      <td>4</td>\n",
              "      <td>1</td>\n",
              "      <td>Steak Burrito</td>\n",
              "      <td>[Tomatillo Red Chili Salsa, [Fajita Vegetables...</td>\n",
              "      <td>$11.75</td>\n",
              "    </tr>\n",
              "    <tr>\n",
              "      <th>8</th>\n",
              "      <td>4</td>\n",
              "      <td>1</td>\n",
              "      <td>Steak Soft Tacos</td>\n",
              "      <td>[Tomatillo Green Chili Salsa, [Pinto Beans, Ch...</td>\n",
              "      <td>$9.25</td>\n",
              "    </tr>\n",
              "    <tr>\n",
              "      <th>9</th>\n",
              "      <td>5</td>\n",
              "      <td>1</td>\n",
              "      <td>Steak Burrito</td>\n",
              "      <td>[Fresh Tomato Salsa, [Rice, Black Beans, Pinto...</td>\n",
              "      <td>$9.25</td>\n",
              "    </tr>\n",
              "  </tbody>\n",
              "</table>\n",
              "</div>"
            ],
            "text/plain": [
              "   order_id  ...  item_price\n",
              "0         1  ...      $2.39 \n",
              "1         1  ...      $3.39 \n",
              "2         1  ...      $3.39 \n",
              "3         1  ...      $2.39 \n",
              "4         2  ...     $16.98 \n",
              "5         3  ...     $10.98 \n",
              "6         3  ...      $1.69 \n",
              "7         4  ...     $11.75 \n",
              "8         4  ...      $9.25 \n",
              "9         5  ...      $9.25 \n",
              "\n",
              "[10 rows x 5 columns]"
            ]
          },
          "metadata": {
            "tags": []
          },
          "execution_count": 302
        }
      ]
    },
    {
      "cell_type": "markdown",
      "metadata": {
        "id": "D6HlWfSK08y-"
      },
      "source": [
        "Step 5. What is the number of observations in the dataset?"
      ]
    },
    {
      "cell_type": "code",
      "metadata": {
        "colab": {
          "base_uri": "https://localhost:8080/"
        },
        "id": "Cz4FpSSTFlsR",
        "outputId": "6eb07779-26f0-4e20-faa5-e2d775c9e9bd"
      },
      "source": [
        "chipo.shape"
      ],
      "execution_count": 303,
      "outputs": [
        {
          "output_type": "execute_result",
          "data": {
            "text/plain": [
              "(4622, 5)"
            ]
          },
          "metadata": {
            "tags": []
          },
          "execution_count": 303
        }
      ]
    },
    {
      "cell_type": "markdown",
      "metadata": {
        "id": "gDpuKDKS09ck"
      },
      "source": [
        "Step 6. What is the number of columns in the dataset?\r\n"
      ]
    },
    {
      "cell_type": "code",
      "metadata": {
        "colab": {
          "base_uri": "https://localhost:8080/"
        },
        "id": "_0VbtnlzGcVY",
        "outputId": "f3f5f3da-31d0-4589-fa06-2f53c25da7bd"
      },
      "source": [
        "chipo.shape[1]"
      ],
      "execution_count": 304,
      "outputs": [
        {
          "output_type": "execute_result",
          "data": {
            "text/plain": [
              "5"
            ]
          },
          "metadata": {
            "tags": []
          },
          "execution_count": 304
        }
      ]
    },
    {
      "cell_type": "markdown",
      "metadata": {
        "id": "CbKpOAOj1Oef"
      },
      "source": [
        "Step 7. Print the name of all the columns."
      ]
    },
    {
      "cell_type": "code",
      "metadata": {
        "colab": {
          "base_uri": "https://localhost:8080/"
        },
        "id": "rl_FucQ2GcL-",
        "outputId": "fa471aac-1db2-46e3-9e4c-fe457179cfa6"
      },
      "source": [
        "list(chipo.columns)"
      ],
      "execution_count": 305,
      "outputs": [
        {
          "output_type": "execute_result",
          "data": {
            "text/plain": [
              "['order_id', 'quantity', 'item_name', 'choice_description', 'item_price']"
            ]
          },
          "metadata": {
            "tags": []
          },
          "execution_count": 305
        }
      ]
    },
    {
      "cell_type": "markdown",
      "metadata": {
        "id": "BH_mzYnC1Tk1"
      },
      "source": [
        "Step 8. How is the dataset indexed?"
      ]
    },
    {
      "cell_type": "code",
      "metadata": {
        "colab": {
          "base_uri": "https://localhost:8080/"
        },
        "id": "1W0fip3IGb9o",
        "outputId": "d8e11270-1ea7-4c40-bd64-754e4400f807"
      },
      "source": [
        "chipo.index"
      ],
      "execution_count": 306,
      "outputs": [
        {
          "output_type": "execute_result",
          "data": {
            "text/plain": [
              "RangeIndex(start=0, stop=4622, step=1)"
            ]
          },
          "metadata": {
            "tags": []
          },
          "execution_count": 306
        }
      ]
    },
    {
      "cell_type": "markdown",
      "metadata": {
        "id": "bXeAqtSk1XSL"
      },
      "source": [
        "Step 9. Which was the most-ordered item?\r\n"
      ]
    },
    {
      "cell_type": "code",
      "metadata": {
        "colab": {
          "base_uri": "https://localhost:8080/",
          "height": 111
        },
        "id": "bERIioZUGb4x",
        "outputId": "50e4dc7a-e963-4133-fbe6-41221a94d126"
      },
      "source": [
        "chipo.groupby(by=\"item_name\").sum().sort_values('quantity',ascending=False).head(1)"
      ],
      "execution_count": 307,
      "outputs": [
        {
          "output_type": "execute_result",
          "data": {
            "text/html": [
              "<div>\n",
              "<style scoped>\n",
              "    .dataframe tbody tr th:only-of-type {\n",
              "        vertical-align: middle;\n",
              "    }\n",
              "\n",
              "    .dataframe tbody tr th {\n",
              "        vertical-align: top;\n",
              "    }\n",
              "\n",
              "    .dataframe thead th {\n",
              "        text-align: right;\n",
              "    }\n",
              "</style>\n",
              "<table border=\"1\" class=\"dataframe\">\n",
              "  <thead>\n",
              "    <tr style=\"text-align: right;\">\n",
              "      <th></th>\n",
              "      <th>order_id</th>\n",
              "      <th>quantity</th>\n",
              "    </tr>\n",
              "    <tr>\n",
              "      <th>item_name</th>\n",
              "      <th></th>\n",
              "      <th></th>\n",
              "    </tr>\n",
              "  </thead>\n",
              "  <tbody>\n",
              "    <tr>\n",
              "      <th>Chicken Bowl</th>\n",
              "      <td>713926</td>\n",
              "      <td>761</td>\n",
              "    </tr>\n",
              "  </tbody>\n",
              "</table>\n",
              "</div>"
            ],
            "text/plain": [
              "              order_id  quantity\n",
              "item_name                       \n",
              "Chicken Bowl    713926       761"
            ]
          },
          "metadata": {
            "tags": []
          },
          "execution_count": 307
        }
      ]
    },
    {
      "cell_type": "markdown",
      "metadata": {
        "id": "CZWBcw-71fIK"
      },
      "source": [
        "Step 10. For the most-ordered item, how many items were ordered?\r\n"
      ]
    },
    {
      "cell_type": "code",
      "metadata": {
        "colab": {
          "base_uri": "https://localhost:8080/",
          "height": 111
        },
        "id": "QP4oAMKQGbyZ",
        "outputId": "12997571-3454-406b-cb59-a4df94ce7053"
      },
      "source": [
        "chipo.groupby(by=\"item_name\").sum().sort_values('quantity',ascending=False).head(1)"
      ],
      "execution_count": 308,
      "outputs": [
        {
          "output_type": "execute_result",
          "data": {
            "text/html": [
              "<div>\n",
              "<style scoped>\n",
              "    .dataframe tbody tr th:only-of-type {\n",
              "        vertical-align: middle;\n",
              "    }\n",
              "\n",
              "    .dataframe tbody tr th {\n",
              "        vertical-align: top;\n",
              "    }\n",
              "\n",
              "    .dataframe thead th {\n",
              "        text-align: right;\n",
              "    }\n",
              "</style>\n",
              "<table border=\"1\" class=\"dataframe\">\n",
              "  <thead>\n",
              "    <tr style=\"text-align: right;\">\n",
              "      <th></th>\n",
              "      <th>order_id</th>\n",
              "      <th>quantity</th>\n",
              "    </tr>\n",
              "    <tr>\n",
              "      <th>item_name</th>\n",
              "      <th></th>\n",
              "      <th></th>\n",
              "    </tr>\n",
              "  </thead>\n",
              "  <tbody>\n",
              "    <tr>\n",
              "      <th>Chicken Bowl</th>\n",
              "      <td>713926</td>\n",
              "      <td>761</td>\n",
              "    </tr>\n",
              "  </tbody>\n",
              "</table>\n",
              "</div>"
            ],
            "text/plain": [
              "              order_id  quantity\n",
              "item_name                       \n",
              "Chicken Bowl    713926       761"
            ]
          },
          "metadata": {
            "tags": []
          },
          "execution_count": 308
        }
      ]
    },
    {
      "cell_type": "markdown",
      "metadata": {
        "id": "WFqu0qPo1iAy"
      },
      "source": [
        "Step 11. What was the most ordered item in the choice_description column?\r\n"
      ]
    },
    {
      "cell_type": "code",
      "metadata": {
        "colab": {
          "base_uri": "https://localhost:8080/",
          "height": 111
        },
        "id": "IWCzGE3hGbrO",
        "outputId": "c985024d-b969-4fce-94d5-a60c7f976bae"
      },
      "source": [
        "chipo.groupby(by=\"choice_description\").sum().sort_values('quantity',ascending=False).head(1)"
      ],
      "execution_count": 309,
      "outputs": [
        {
          "output_type": "execute_result",
          "data": {
            "text/html": [
              "<div>\n",
              "<style scoped>\n",
              "    .dataframe tbody tr th:only-of-type {\n",
              "        vertical-align: middle;\n",
              "    }\n",
              "\n",
              "    .dataframe tbody tr th {\n",
              "        vertical-align: top;\n",
              "    }\n",
              "\n",
              "    .dataframe thead th {\n",
              "        text-align: right;\n",
              "    }\n",
              "</style>\n",
              "<table border=\"1\" class=\"dataframe\">\n",
              "  <thead>\n",
              "    <tr style=\"text-align: right;\">\n",
              "      <th></th>\n",
              "      <th>order_id</th>\n",
              "      <th>quantity</th>\n",
              "    </tr>\n",
              "    <tr>\n",
              "      <th>choice_description</th>\n",
              "      <th></th>\n",
              "      <th></th>\n",
              "    </tr>\n",
              "  </thead>\n",
              "  <tbody>\n",
              "    <tr>\n",
              "      <th>[Diet Coke]</th>\n",
              "      <td>123455</td>\n",
              "      <td>159</td>\n",
              "    </tr>\n",
              "  </tbody>\n",
              "</table>\n",
              "</div>"
            ],
            "text/plain": [
              "                    order_id  quantity\n",
              "choice_description                    \n",
              "[Diet Coke]           123455       159"
            ]
          },
          "metadata": {
            "tags": []
          },
          "execution_count": 309
        }
      ]
    },
    {
      "cell_type": "markdown",
      "metadata": {
        "id": "03CuQx1h1i29"
      },
      "source": [
        "Step 12. How many items were orderd in total?\r\n"
      ]
    },
    {
      "cell_type": "code",
      "metadata": {
        "colab": {
          "base_uri": "https://localhost:8080/"
        },
        "id": "jqw7nEixGbi1",
        "outputId": "2b75a482-b742-48ca-ebae-ba11fb2a2d20"
      },
      "source": [
        "chipo.item_name.count()"
      ],
      "execution_count": 310,
      "outputs": [
        {
          "output_type": "execute_result",
          "data": {
            "text/plain": [
              "4622"
            ]
          },
          "metadata": {
            "tags": []
          },
          "execution_count": 310
        }
      ]
    },
    {
      "cell_type": "markdown",
      "metadata": {
        "id": "-Ei1dX-t1jrK"
      },
      "source": [
        "Step 13.\r\n",
        "* Turn the item price into a float\r\n",
        "* Check the item price type\r\n",
        "* Create a lambda function and change the type of item price\r\n",
        "* Check the item price type"
      ]
    },
    {
      "cell_type": "code",
      "metadata": {
        "colab": {
          "base_uri": "https://localhost:8080/"
        },
        "id": "Co-JPGC2GbaF",
        "outputId": "46159e2e-64d3-4e26-9b15-f2bf35393949"
      },
      "source": [
        "chipo.item_price.dtype"
      ],
      "execution_count": 311,
      "outputs": [
        {
          "output_type": "execute_result",
          "data": {
            "text/plain": [
              "dtype('O')"
            ]
          },
          "metadata": {
            "tags": []
          },
          "execution_count": 311
        }
      ]
    },
    {
      "cell_type": "code",
      "metadata": {
        "colab": {
          "base_uri": "https://localhost:8080/"
        },
        "id": "6QIo2OPAVJKf",
        "outputId": "c5f9bd3c-8de8-4a38-b869-0dcdfc073f68"
      },
      "source": [
        "type_converter = lambda x: float(x[1:])\r\n",
        "chipo.item_price = chipo.item_price.apply(type_converter)\r\n",
        "chipo.item_price.dtype"
      ],
      "execution_count": 312,
      "outputs": [
        {
          "output_type": "execute_result",
          "data": {
            "text/plain": [
              "dtype('float64')"
            ]
          },
          "metadata": {
            "tags": []
          },
          "execution_count": 312
        }
      ]
    },
    {
      "cell_type": "markdown",
      "metadata": {
        "id": "95Pl6ijN1kwJ"
      },
      "source": [
        "Step 14. How much was the revenue for the period in the dataset?"
      ]
    },
    {
      "cell_type": "code",
      "metadata": {
        "colab": {
          "base_uri": "https://localhost:8080/"
        },
        "id": "o5B4sANeGbRA",
        "outputId": "08c5a9e9-8f7b-4adf-ffdf-1bd1b8c2c9bb"
      },
      "source": [
        "revenue = (chipo.item_price * chipo.quantity).sum()\r\n",
        "print(f\"Revenue: ${revenue}\")"
      ],
      "execution_count": 313,
      "outputs": [
        {
          "output_type": "stream",
          "text": [
            "Revenue: $39237.02\n"
          ],
          "name": "stdout"
        }
      ]
    },
    {
      "cell_type": "markdown",
      "metadata": {
        "id": "6uR164Vs1lYh"
      },
      "source": [
        "Step 15. How many orders were made in the period?\r\n"
      ]
    },
    {
      "cell_type": "code",
      "metadata": {
        "colab": {
          "base_uri": "https://localhost:8080/"
        },
        "id": "8TBGKeHeGbHs",
        "outputId": "aa9babe0-58e8-4404-8358-ae5049417e95"
      },
      "source": [
        "chipo.order_id.value_counts().count()"
      ],
      "execution_count": 314,
      "outputs": [
        {
          "output_type": "execute_result",
          "data": {
            "text/plain": [
              "1834"
            ]
          },
          "metadata": {
            "tags": []
          },
          "execution_count": 314
        }
      ]
    },
    {
      "cell_type": "markdown",
      "metadata": {
        "id": "1NdA96_c1mCi"
      },
      "source": [
        "Step 16. What is the average revenue amount per order?\r\n"
      ]
    },
    {
      "cell_type": "code",
      "metadata": {
        "colab": {
          "base_uri": "https://localhost:8080/"
        },
        "id": "KVNMQOsOGa7U",
        "outputId": "46d335f3-e65e-42cc-de88-bebe41346d78"
      },
      "source": [
        "revenue = chipo['item_price']*chipo['quantity']\r\n",
        "orders = chipo['order_id'].unique()\r\n",
        "sum(revenue)/orders.size"
      ],
      "execution_count": 315,
      "outputs": [
        {
          "output_type": "execute_result",
          "data": {
            "text/plain": [
              "21.3942311886587"
            ]
          },
          "metadata": {
            "tags": []
          },
          "execution_count": 315
        }
      ]
    },
    {
      "cell_type": "markdown",
      "metadata": {
        "id": "cCIq7Pa61mjq"
      },
      "source": [
        "Step 17. How many different items are sold?"
      ]
    },
    {
      "cell_type": "code",
      "metadata": {
        "colab": {
          "base_uri": "https://localhost:8080/"
        },
        "id": "GLgbSLcbGw8M",
        "outputId": "ee905076-a3c0-461d-9158-20323e297b28"
      },
      "source": [
        "chipo.item_name.value_counts().count()"
      ],
      "execution_count": 316,
      "outputs": [
        {
          "output_type": "execute_result",
          "data": {
            "text/plain": [
              "50"
            ]
          },
          "metadata": {
            "tags": []
          },
          "execution_count": 316
        }
      ]
    },
    {
      "cell_type": "markdown",
      "metadata": {
        "id": "H4bxw5fDul5N"
      },
      "source": [
        "###__Question 6__"
      ]
    },
    {
      "cell_type": "code",
      "metadata": {
        "id": "HGpgzdKzcWSn"
      },
      "source": [
        "import matplotlib.pyplot as plt"
      ],
      "execution_count": 317,
      "outputs": []
    },
    {
      "cell_type": "code",
      "metadata": {
        "colab": {
          "base_uri": "https://localhost:8080/",
          "height": 204
        },
        "id": "5rHo2o-sazXe",
        "outputId": "f1bbfc25-1f02-43f3-92f7-431e89b351fc"
      },
      "source": [
        "UsMarDiv= pd.read_csv('us-marriages-divorces-1867-2014.csv')\r\n",
        "UsMarDiv.head(5)"
      ],
      "execution_count": 318,
      "outputs": [
        {
          "output_type": "execute_result",
          "data": {
            "text/html": [
              "<div>\n",
              "<style scoped>\n",
              "    .dataframe tbody tr th:only-of-type {\n",
              "        vertical-align: middle;\n",
              "    }\n",
              "\n",
              "    .dataframe tbody tr th {\n",
              "        vertical-align: top;\n",
              "    }\n",
              "\n",
              "    .dataframe thead th {\n",
              "        text-align: right;\n",
              "    }\n",
              "</style>\n",
              "<table border=\"1\" class=\"dataframe\">\n",
              "  <thead>\n",
              "    <tr style=\"text-align: right;\">\n",
              "      <th></th>\n",
              "      <th>Year</th>\n",
              "      <th>Marriages</th>\n",
              "      <th>Divorces</th>\n",
              "      <th>Population</th>\n",
              "      <th>Marriages_per_1000</th>\n",
              "      <th>Divorces_per_1000</th>\n",
              "    </tr>\n",
              "  </thead>\n",
              "  <tbody>\n",
              "    <tr>\n",
              "      <th>0</th>\n",
              "      <td>1867</td>\n",
              "      <td>357000.0</td>\n",
              "      <td>10000.0</td>\n",
              "      <td>36970000</td>\n",
              "      <td>9.7</td>\n",
              "      <td>0.3</td>\n",
              "    </tr>\n",
              "    <tr>\n",
              "      <th>1</th>\n",
              "      <td>1868</td>\n",
              "      <td>345000.0</td>\n",
              "      <td>10000.0</td>\n",
              "      <td>37885000</td>\n",
              "      <td>9.1</td>\n",
              "      <td>0.3</td>\n",
              "    </tr>\n",
              "    <tr>\n",
              "      <th>2</th>\n",
              "      <td>1869</td>\n",
              "      <td>348000.0</td>\n",
              "      <td>11000.0</td>\n",
              "      <td>38870000</td>\n",
              "      <td>9.0</td>\n",
              "      <td>0.3</td>\n",
              "    </tr>\n",
              "    <tr>\n",
              "      <th>3</th>\n",
              "      <td>1870</td>\n",
              "      <td>352000.0</td>\n",
              "      <td>11000.0</td>\n",
              "      <td>39905000</td>\n",
              "      <td>8.8</td>\n",
              "      <td>0.3</td>\n",
              "    </tr>\n",
              "    <tr>\n",
              "      <th>4</th>\n",
              "      <td>1871</td>\n",
              "      <td>359000.0</td>\n",
              "      <td>12000.0</td>\n",
              "      <td>41010000</td>\n",
              "      <td>8.8</td>\n",
              "      <td>0.3</td>\n",
              "    </tr>\n",
              "  </tbody>\n",
              "</table>\n",
              "</div>"
            ],
            "text/plain": [
              "   Year  Marriages  Divorces  Population  Marriages_per_1000  Divorces_per_1000\n",
              "0  1867   357000.0   10000.0    36970000                 9.7                0.3\n",
              "1  1868   345000.0   10000.0    37885000                 9.1                0.3\n",
              "2  1869   348000.0   11000.0    38870000                 9.0                0.3\n",
              "3  1870   352000.0   11000.0    39905000                 8.8                0.3\n",
              "4  1871   359000.0   12000.0    41010000                 8.8                0.3"
            ]
          },
          "metadata": {
            "tags": []
          },
          "execution_count": 318
        }
      ]
    },
    {
      "cell_type": "code",
      "metadata": {
        "colab": {
          "base_uri": "https://localhost:8080/",
          "height": 312
        },
        "id": "0AmNvkwrbO1G",
        "outputId": "e698d4aa-1dbd-45b8-b405-cf70695902b7"
      },
      "source": [
        "plt.plot(UsMarDiv['Year'],UsMarDiv['Marriages'], label='Marriages', color='c');\r\n",
        "plt.plot(UsMarDiv['Year'],UsMarDiv['Divorces'], label='Divorces', color='r');\r\n",
        "plt.xlabel('Years')\r\n",
        "plt.ylabel('Event per capita')\r\n",
        "plt.legend(bbox_to_anchor=(0, 1), loc='upper left')\r\n",
        "plt.title('Number of Marital Events per Capita')"
      ],
      "execution_count": 319,
      "outputs": [
        {
          "output_type": "execute_result",
          "data": {
            "text/plain": [
              "Text(0.5, 1.0, 'Number of Marital Events per Capita')"
            ]
          },
          "metadata": {
            "tags": []
          },
          "execution_count": 319
        },
        {
          "output_type": "display_data",
          "data": {
            "image/png": "[encoded data removed]",
            "text/plain": [
              "<Figure size 432x288 with 1 Axes>"
            ]
          },
          "metadata": {
            "tags": [],
            "needs_background": "light"
          }
        }
      ]
    },
    {
      "cell_type": "markdown",
      "metadata": {
        "id": "Y2PtahS7uwBk"
      },
      "source": [
        "###__Question 7__"
      ]
    },
    {
      "cell_type": "code",
      "metadata": {
        "colab": {
          "base_uri": "https://localhost:8080/",
          "height": 142
        },
        "id": "0Co3XlRHaz5A",
        "outputId": "49e46b08-5637-46e2-e041-b45534436162"
      },
      "source": [
        "UsMarDiv2=UsMarDiv[UsMarDiv['Year'].isin([1900,1950,2000])]\r\n",
        "UsMarDiv2"
      ],
      "execution_count": 320,
      "outputs": [
        {
          "output_type": "execute_result",
          "data": {
            "text/html": [
              "<div>\n",
              "<style scoped>\n",
              "    .dataframe tbody tr th:only-of-type {\n",
              "        vertical-align: middle;\n",
              "    }\n",
              "\n",
              "    .dataframe tbody tr th {\n",
              "        vertical-align: top;\n",
              "    }\n",
              "\n",
              "    .dataframe thead th {\n",
              "        text-align: right;\n",
              "    }\n",
              "</style>\n",
              "<table border=\"1\" class=\"dataframe\">\n",
              "  <thead>\n",
              "    <tr style=\"text-align: right;\">\n",
              "      <th></th>\n",
              "      <th>Year</th>\n",
              "      <th>Marriages</th>\n",
              "      <th>Divorces</th>\n",
              "      <th>Population</th>\n",
              "      <th>Marriages_per_1000</th>\n",
              "      <th>Divorces_per_1000</th>\n",
              "    </tr>\n",
              "  </thead>\n",
              "  <tbody>\n",
              "    <tr>\n",
              "      <th>33</th>\n",
              "      <td>1900</td>\n",
              "      <td>709000.0</td>\n",
              "      <td>56000.0</td>\n",
              "      <td>76094000</td>\n",
              "      <td>9.3</td>\n",
              "      <td>0.7</td>\n",
              "    </tr>\n",
              "    <tr>\n",
              "      <th>83</th>\n",
              "      <td>1950</td>\n",
              "      <td>1667000.0</td>\n",
              "      <td>385000.0</td>\n",
              "      <td>151684000</td>\n",
              "      <td>11.0</td>\n",
              "      <td>2.5</td>\n",
              "    </tr>\n",
              "    <tr>\n",
              "      <th>133</th>\n",
              "      <td>2000</td>\n",
              "      <td>2315000.0</td>\n",
              "      <td>944000.0</td>\n",
              "      <td>282398000</td>\n",
              "      <td>8.2</td>\n",
              "      <td>3.3</td>\n",
              "    </tr>\n",
              "  </tbody>\n",
              "</table>\n",
              "</div>"
            ],
            "text/plain": [
              "     Year  Marriages  ...  Marriages_per_1000  Divorces_per_1000\n",
              "33   1900   709000.0  ...                 9.3                0.7\n",
              "83   1950  1667000.0  ...                11.0                2.5\n",
              "133  2000  2315000.0  ...                 8.2                3.3\n",
              "\n",
              "[3 rows x 6 columns]"
            ]
          },
          "metadata": {
            "tags": []
          },
          "execution_count": 320
        }
      ]
    },
    {
      "cell_type": "code",
      "metadata": {
        "colab": {
          "base_uri": "https://localhost:8080/",
          "height": 308
        },
        "id": "KxFU1RrneSGI",
        "outputId": "3c4c8182-1f2e-4de3-db52-6104ce96de92"
      },
      "source": [
        "fig, ax = plt.subplots()\r\n",
        "w=0.25\r\n",
        "x = np.arange(len(UsMarDiv2))\r\n",
        "\r\n",
        "plotm = plt.bar(x, UsMarDiv2['Marriages'], w, color='c', label='Marriages')\r\n",
        "plotd = plt.bar(x + w, UsMarDiv2[\"Divorces\"], w, color='r',label='Divorces')\r\n",
        "\r\n",
        "plt.xlabel('Years')\r\n",
        "plt.ylabel('Event per Capita')\r\n",
        "plt.suptitle('Number of Marital Events per Capita')\r\n",
        "plt.xticks(x + (w/2) , UsMarDiv2[\"Year\"])\r\n",
        "plt.legend()\r\n",
        "plt.show()"
      ],
      "execution_count": 321,
      "outputs": [
        {
          "output_type": "display_data",
          "data": {
            "image/png": "[encoded data removed]",
            "text/plain": [
              "<Figure size 432x288 with 1 Axes>"
            ]
          },
          "metadata": {
            "tags": [],
            "needs_background": "light"
          }
        }
      ]
    },
    {
      "cell_type": "markdown",
      "metadata": {
        "id": "Idj_6QuYu3S8"
      },
      "source": [
        "###__Question 8__"
      ]
    },
    {
      "cell_type": "code",
      "metadata": {
        "colab": {
          "base_uri": "https://localhost:8080/",
          "height": 204
        },
        "id": "UwejzTcXa0om",
        "outputId": "68698f81-eaf2-4f95-fbf6-1e4702839be8"
      },
      "source": [
        "kills=pd.read_csv('actor_kill_counts.csv')\r\n",
        "kills.head(5)"
      ],
      "execution_count": 322,
      "outputs": [
        {
          "output_type": "execute_result",
          "data": {
            "text/html": [
              "<div>\n",
              "<style scoped>\n",
              "    .dataframe tbody tr th:only-of-type {\n",
              "        vertical-align: middle;\n",
              "    }\n",
              "\n",
              "    .dataframe tbody tr th {\n",
              "        vertical-align: top;\n",
              "    }\n",
              "\n",
              "    .dataframe thead th {\n",
              "        text-align: right;\n",
              "    }\n",
              "</style>\n",
              "<table border=\"1\" class=\"dataframe\">\n",
              "  <thead>\n",
              "    <tr style=\"text-align: right;\">\n",
              "      <th></th>\n",
              "      <th>Actor</th>\n",
              "      <th>Count</th>\n",
              "    </tr>\n",
              "  </thead>\n",
              "  <tbody>\n",
              "    <tr>\n",
              "      <th>0</th>\n",
              "      <td>Arnold Schwarzenegger</td>\n",
              "      <td>369</td>\n",
              "    </tr>\n",
              "    <tr>\n",
              "      <th>1</th>\n",
              "      <td>Chow Yun-Fat</td>\n",
              "      <td>295</td>\n",
              "    </tr>\n",
              "    <tr>\n",
              "      <th>2</th>\n",
              "      <td>Clint Eastwood</td>\n",
              "      <td>207</td>\n",
              "    </tr>\n",
              "    <tr>\n",
              "      <th>3</th>\n",
              "      <td>Clive Owen</td>\n",
              "      <td>194</td>\n",
              "    </tr>\n",
              "    <tr>\n",
              "      <th>4</th>\n",
              "      <td>Dolph Lundgren</td>\n",
              "      <td>239</td>\n",
              "    </tr>\n",
              "  </tbody>\n",
              "</table>\n",
              "</div>"
            ],
            "text/plain": [
              "                   Actor  Count\n",
              "0  Arnold Schwarzenegger    369\n",
              "1           Chow Yun-Fat    295\n",
              "2         Clint Eastwood    207\n",
              "3             Clive Owen    194\n",
              "4         Dolph Lundgren    239"
            ]
          },
          "metadata": {
            "tags": []
          },
          "execution_count": 322
        }
      ]
    },
    {
      "cell_type": "code",
      "metadata": {
        "colab": {
          "base_uri": "https://localhost:8080/",
          "height": 325
        },
        "id": "sau2tdUlgEdq",
        "outputId": "dac3c299-91ee-4ad1-d3e2-4bdfe0afaf14"
      },
      "source": [
        "kills=kills.sort_values(by=['Count'])\r\n",
        "plt.barh(kills['Actor'], kills['Count'], color='m')\r\n",
        "\r\n",
        "plt.xlabel('Kills')\r\n",
        "plt.ylabel('Actors')\r\n",
        "plt.suptitle('Kills per Actor')"
      ],
      "execution_count": 323,
      "outputs": [
        {
          "output_type": "execute_result",
          "data": {
            "text/plain": [
              "Text(0.5, 0.98, 'Kills per Actor')"
            ]
          },
          "metadata": {
            "tags": []
          },
          "execution_count": 323
        },
        {
          "output_type": "display_data",
          "data": {
            "image/png": "[encoded data removed]",
            "text/plain": [
              "<Figure size 432x288 with 1 Axes>"
            ]
          },
          "metadata": {
            "tags": [],
            "needs_background": "light"
          }
        }
      ]
    },
    {
      "cell_type": "markdown",
      "metadata": {
        "id": "FgdYRQJmu4w7"
      },
      "source": [
        "###__Question 9__"
      ]
    },
    {
      "cell_type": "code",
      "metadata": {
        "colab": {
          "base_uri": "https://localhost:8080/",
          "height": 204
        },
        "id": "AA_4WAKra1K9",
        "outputId": "456cffef-472c-4d3e-d424-ca9910f95529"
      },
      "source": [
        "reigns=pd.read_csv('roman-emperor-reigns.csv')\r\n",
        "reigns2= reigns[reigns['Cause_of_Death']=='Assassinated']\r\n",
        "reigns2.head(5)"
      ],
      "execution_count": 324,
      "outputs": [
        {
          "output_type": "execute_result",
          "data": {
            "text/html": [
              "<div>\n",
              "<style scoped>\n",
              "    .dataframe tbody tr th:only-of-type {\n",
              "        vertical-align: middle;\n",
              "    }\n",
              "\n",
              "    .dataframe tbody tr th {\n",
              "        vertical-align: top;\n",
              "    }\n",
              "\n",
              "    .dataframe thead th {\n",
              "        text-align: right;\n",
              "    }\n",
              "</style>\n",
              "<table border=\"1\" class=\"dataframe\">\n",
              "  <thead>\n",
              "    <tr style=\"text-align: right;\">\n",
              "      <th></th>\n",
              "      <th>Emperor</th>\n",
              "      <th>Length_of_Reign</th>\n",
              "      <th>Cause_of_Death</th>\n",
              "    </tr>\n",
              "  </thead>\n",
              "  <tbody>\n",
              "    <tr>\n",
              "      <th>2</th>\n",
              "      <td>Caligula</td>\n",
              "      <td>4.83</td>\n",
              "      <td>Assassinated</td>\n",
              "    </tr>\n",
              "    <tr>\n",
              "      <th>5</th>\n",
              "      <td>Galba</td>\n",
              "      <td>0.58</td>\n",
              "      <td>Assassinated</td>\n",
              "    </tr>\n",
              "    <tr>\n",
              "      <th>7</th>\n",
              "      <td>Vitellius</td>\n",
              "      <td>0.67</td>\n",
              "      <td>Assassinated</td>\n",
              "    </tr>\n",
              "    <tr>\n",
              "      <th>10</th>\n",
              "      <td>Domitian</td>\n",
              "      <td>15.00</td>\n",
              "      <td>Assassinated</td>\n",
              "    </tr>\n",
              "    <tr>\n",
              "      <th>17</th>\n",
              "      <td>Commodus</td>\n",
              "      <td>15.00</td>\n",
              "      <td>Assassinated</td>\n",
              "    </tr>\n",
              "  </tbody>\n",
              "</table>\n",
              "</div>"
            ],
            "text/plain": [
              "      Emperor  Length_of_Reign Cause_of_Death\n",
              "2    Caligula             4.83   Assassinated\n",
              "5       Galba             0.58   Assassinated\n",
              "7   Vitellius             0.67   Assassinated\n",
              "10   Domitian            15.00   Assassinated\n",
              "17   Commodus            15.00   Assassinated"
            ]
          },
          "metadata": {
            "tags": []
          },
          "execution_count": 324
        }
      ]
    },
    {
      "cell_type": "code",
      "metadata": {
        "colab": {
          "base_uri": "https://localhost:8080/",
          "height": 620
        },
        "id": "dt4yS8RHiZ1g",
        "outputId": "e7174c1d-5071-4104-c1ba-9cc352e22543"
      },
      "source": [
        "plt.pie(reigns2['Length_of_Reign'], labels=reigns2['Emperor'], radius=2.7, autopct='%1.0f%%', pctdistance=1.05, labeldistance=1.2)\r\n",
        "plt.title('Reign of Assassinated Emperors')"
      ],
      "execution_count": 325,
      "outputs": [
        {
          "output_type": "execute_result",
          "data": {
            "text/plain": [
              "Text(0.5, 1.0, 'Reign of Assassinated Emperors')"
            ]
          },
          "metadata": {
            "tags": []
          },
          "execution_count": 325
        },
        {
          "output_type": "display_data",
          "data": {
            "image/png": "[encoded data removed]",
            "text/plain": [
              "<Figure size 432x288 with 1 Axes>"
            ]
          },
          "metadata": {
            "tags": []
          }
        }
      ]
    },
    {
      "cell_type": "markdown",
      "metadata": {
        "id": "piQyF8Wnu6x8"
      },
      "source": [
        "###__Question 10__"
      ]
    },
    {
      "cell_type": "code",
      "metadata": {
        "colab": {
          "base_uri": "https://localhost:8080/",
          "height": 204
        },
        "id": "cSF80XD7a1qn",
        "outputId": "93addecc-ef64-4a7a-aec2-ad577bef1d7e"
      },
      "source": [
        "revenue=pd.read_csv('arcade-revenue-vs-cs-doctorates.csv')\r\n",
        "revenue.columns = ['Year', 'Total Arcade Revenue (Bil)', 'CS PhD Awards (US)']\r\n",
        "revenue.head(5)"
      ],
      "execution_count": 326,
      "outputs": [
        {
          "output_type": "execute_result",
          "data": {
            "text/html": [
              "<div>\n",
              "<style scoped>\n",
              "    .dataframe tbody tr th:only-of-type {\n",
              "        vertical-align: middle;\n",
              "    }\n",
              "\n",
              "    .dataframe tbody tr th {\n",
              "        vertical-align: top;\n",
              "    }\n",
              "\n",
              "    .dataframe thead th {\n",
              "        text-align: right;\n",
              "    }\n",
              "</style>\n",
              "<table border=\"1\" class=\"dataframe\">\n",
              "  <thead>\n",
              "    <tr style=\"text-align: right;\">\n",
              "      <th></th>\n",
              "      <th>Year</th>\n",
              "      <th>Total Arcade Revenue (Bil)</th>\n",
              "      <th>CS PhD Awards (US)</th>\n",
              "    </tr>\n",
              "  </thead>\n",
              "  <tbody>\n",
              "    <tr>\n",
              "      <th>0</th>\n",
              "      <td>2000</td>\n",
              "      <td>1.196</td>\n",
              "      <td>861</td>\n",
              "    </tr>\n",
              "    <tr>\n",
              "      <th>1</th>\n",
              "      <td>2001</td>\n",
              "      <td>1.176</td>\n",
              "      <td>830</td>\n",
              "    </tr>\n",
              "    <tr>\n",
              "      <th>2</th>\n",
              "      <td>2002</td>\n",
              "      <td>1.269</td>\n",
              "      <td>809</td>\n",
              "    </tr>\n",
              "    <tr>\n",
              "      <th>3</th>\n",
              "      <td>2003</td>\n",
              "      <td>1.240</td>\n",
              "      <td>867</td>\n",
              "    </tr>\n",
              "    <tr>\n",
              "      <th>4</th>\n",
              "      <td>2004</td>\n",
              "      <td>1.307</td>\n",
              "      <td>948</td>\n",
              "    </tr>\n",
              "  </tbody>\n",
              "</table>\n",
              "</div>"
            ],
            "text/plain": [
              "   Year  Total Arcade Revenue (Bil)  CS PhD Awards (US)\n",
              "0  2000                       1.196                 861\n",
              "1  2001                       1.176                 830\n",
              "2  2002                       1.269                 809\n",
              "3  2003                       1.240                 867\n",
              "4  2004                       1.307                 948"
            ]
          },
          "metadata": {
            "tags": []
          },
          "execution_count": 326
        }
      ]
    },
    {
      "cell_type": "code",
      "metadata": {
        "colab": {
          "base_uri": "https://localhost:8080/",
          "height": 312
        },
        "id": "FZsyC_5GkAww",
        "outputId": "32106e46-02f5-4eb4-8e21-977e5274b829"
      },
      "source": [
        "revenue2 = revenue.groupby('Year')\r\n",
        "for m, n in revenue2:\r\n",
        "    plt.plot(n['Total Arcade Revenue (Bil)'], n['CS PhD Awards (US)'], marker='o', linestyle='-', markersize=8, label=m)\r\n",
        "\r\n",
        "    \r\n",
        "plt.xlabel('Total Arcade Revenue (billions)')\r\n",
        "plt.ylabel('Total CS PhD Awards (US)')\r\n",
        "plt.title('Arcades Revenue Vs CS PhD Awards')\r\n",
        "plt.legend(bbox_to_anchor=(1, 1), loc='upper left')"
      ],
      "execution_count": 327,
      "outputs": [
        {
          "output_type": "execute_result",
          "data": {
            "text/plain": [
              "<matplotlib.legend.Legend at 0x7fc658046908>"
            ]
          },
          "metadata": {
            "tags": []
          },
          "execution_count": 327
        },
        {
          "output_type": "display_data",
          "data": {
            "image/png": "[encoded data removed]",
            "text/plain": [
              "<Figure size 432x288 with 1 Axes>"
            ]
          },
          "metadata": {
            "tags": [],
            "needs_background": "light"
          }
        }
      ]
    },
    {
      "cell_type": "code",
      "metadata": {
        "id": "1J5hSJnTn73H"
      },
      "source": [
        ""
      ],
      "execution_count": 327,
      "outputs": []
    }
  ]
}